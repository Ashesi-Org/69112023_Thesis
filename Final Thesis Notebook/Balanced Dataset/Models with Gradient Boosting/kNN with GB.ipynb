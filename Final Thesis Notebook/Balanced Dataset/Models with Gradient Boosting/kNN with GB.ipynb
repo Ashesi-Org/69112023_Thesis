{
 "cells": [
  {
   "cell_type": "code",
   "execution_count": 1,
   "id": "5a3e8d26",
   "metadata": {},
   "outputs": [],
   "source": [
    "# k-Nearest Neighbors with Gradient Boosting Feature Selection Implementation"
   ]
  },
  {
   "cell_type": "code",
   "execution_count": 2,
   "id": "8726d741",
   "metadata": {},
   "outputs": [],
   "source": [
    "import numpy as np\n",
    "import matplotlib.pyplot as plt\n",
    "import pandas as pd"
   ]
  },
  {
   "cell_type": "code",
   "execution_count": 3,
   "id": "e1e6a915",
   "metadata": {},
   "outputs": [],
   "source": [
    "train_data = pd.read_csv(r\"C:\\Users\\Brad\\OneDrive - Ashesi University\\Desktop\\Ashesi University\\Senior Year Sem 2\\Capstone 2\\Data\\gb_train_data_2.csv\")"
   ]
  },
  {
   "cell_type": "code",
   "execution_count": 4,
   "id": "85dde2d9",
   "metadata": {},
   "outputs": [],
   "source": [
    "damage_labels = [1, 2, 3]"
   ]
  },
  {
   "cell_type": "code",
   "execution_count": 5,
   "id": "eae3b7f1",
   "metadata": {},
   "outputs": [],
   "source": [
    "#Finding minimum sample count\n",
    "min_count = np.inf\n",
    "for label in damage_labels:\n",
    "    count = (train_data[\"damage_grade\"] == label).sum()\n",
    "    if count < min_count:\n",
    "        min_count = count"
   ]
  },
  {
   "cell_type": "code",
   "execution_count": 6,
   "id": "fe528081",
   "metadata": {},
   "outputs": [
    {
     "name": "stdout",
     "output_type": "stream",
     "text": [
      "25124\n"
     ]
    }
   ],
   "source": [
    "print(min_count)"
   ]
  },
  {
   "cell_type": "code",
   "execution_count": 7,
   "id": "dcdaf838",
   "metadata": {},
   "outputs": [],
   "source": [
    "# Selecting random number of samples equal to the min sample count\n",
    "bal_train_data = pd.concat([train_data[train_data[\"damage_grade\"] == label].sample(min_count) for label in damage_labels])\n",
    "train_data = bal_train_data"
   ]
  },
  {
   "cell_type": "code",
   "execution_count": null,
   "id": "b447df78",
   "metadata": {},
   "outputs": [],
   "source": []
  },
  {
   "cell_type": "code",
   "execution_count": 8,
   "id": "b1035eb9",
   "metadata": {},
   "outputs": [
    {
     "data": {
      "text/html": [
       "<div>\n",
       "<style scoped>\n",
       "    .dataframe tbody tr th:only-of-type {\n",
       "        vertical-align: middle;\n",
       "    }\n",
       "\n",
       "    .dataframe tbody tr th {\n",
       "        vertical-align: top;\n",
       "    }\n",
       "\n",
       "    .dataframe thead th {\n",
       "        text-align: right;\n",
       "    }\n",
       "</style>\n",
       "<table border=\"1\" class=\"dataframe\">\n",
       "  <thead>\n",
       "    <tr style=\"text-align: right;\">\n",
       "      <th></th>\n",
       "      <th>geo_level_1_id</th>\n",
       "      <th>geo_level_2_id</th>\n",
       "      <th>count_floors_pre_eq</th>\n",
       "      <th>age</th>\n",
       "      <th>foundation_type</th>\n",
       "      <th>roof_type</th>\n",
       "      <th>ground_floor_type</th>\n",
       "      <th>other_floor_type</th>\n",
       "      <th>has_superstructure_adobe_mud</th>\n",
       "      <th>has_superstructure_mud_mortar_stone</th>\n",
       "      <th>has_superstructure_stone_flag</th>\n",
       "      <th>has_superstructure_mud_mortar_brick</th>\n",
       "      <th>damage_grade</th>\n",
       "    </tr>\n",
       "  </thead>\n",
       "  <tbody>\n",
       "    <tr>\n",
       "      <th>179999</th>\n",
       "      <td>15</td>\n",
       "      <td>1338</td>\n",
       "      <td>2</td>\n",
       "      <td>5</td>\n",
       "      <td>r</td>\n",
       "      <td>n</td>\n",
       "      <td>f</td>\n",
       "      <td>q</td>\n",
       "      <td>0</td>\n",
       "      <td>1</td>\n",
       "      <td>0</td>\n",
       "      <td>0</td>\n",
       "      <td>1</td>\n",
       "    </tr>\n",
       "    <tr>\n",
       "      <th>215626</th>\n",
       "      <td>26</td>\n",
       "      <td>36</td>\n",
       "      <td>2</td>\n",
       "      <td>0</td>\n",
       "      <td>r</td>\n",
       "      <td>n</td>\n",
       "      <td>v</td>\n",
       "      <td>q</td>\n",
       "      <td>0</td>\n",
       "      <td>0</td>\n",
       "      <td>0</td>\n",
       "      <td>0</td>\n",
       "      <td>1</td>\n",
       "    </tr>\n",
       "    <tr>\n",
       "      <th>101192</th>\n",
       "      <td>13</td>\n",
       "      <td>1125</td>\n",
       "      <td>3</td>\n",
       "      <td>35</td>\n",
       "      <td>r</td>\n",
       "      <td>q</td>\n",
       "      <td>x</td>\n",
       "      <td>q</td>\n",
       "      <td>0</td>\n",
       "      <td>1</td>\n",
       "      <td>0</td>\n",
       "      <td>0</td>\n",
       "      <td>1</td>\n",
       "    </tr>\n",
       "    <tr>\n",
       "      <th>241892</th>\n",
       "      <td>21</td>\n",
       "      <td>363</td>\n",
       "      <td>1</td>\n",
       "      <td>0</td>\n",
       "      <td>w</td>\n",
       "      <td>n</td>\n",
       "      <td>f</td>\n",
       "      <td>j</td>\n",
       "      <td>0</td>\n",
       "      <td>0</td>\n",
       "      <td>0</td>\n",
       "      <td>0</td>\n",
       "      <td>1</td>\n",
       "    </tr>\n",
       "    <tr>\n",
       "      <th>54102</th>\n",
       "      <td>16</td>\n",
       "      <td>400</td>\n",
       "      <td>3</td>\n",
       "      <td>10</td>\n",
       "      <td>r</td>\n",
       "      <td>n</td>\n",
       "      <td>x</td>\n",
       "      <td>x</td>\n",
       "      <td>0</td>\n",
       "      <td>1</td>\n",
       "      <td>0</td>\n",
       "      <td>0</td>\n",
       "      <td>1</td>\n",
       "    </tr>\n",
       "  </tbody>\n",
       "</table>\n",
       "</div>"
      ],
      "text/plain": [
       "        geo_level_1_id  geo_level_2_id  count_floors_pre_eq  age  \\\n",
       "179999              15            1338                    2    5   \n",
       "215626              26              36                    2    0   \n",
       "101192              13            1125                    3   35   \n",
       "241892              21             363                    1    0   \n",
       "54102               16             400                    3   10   \n",
       "\n",
       "       foundation_type roof_type ground_floor_type other_floor_type  \\\n",
       "179999               r         n                 f                q   \n",
       "215626               r         n                 v                q   \n",
       "101192               r         q                 x                q   \n",
       "241892               w         n                 f                j   \n",
       "54102                r         n                 x                x   \n",
       "\n",
       "        has_superstructure_adobe_mud  has_superstructure_mud_mortar_stone  \\\n",
       "179999                             0                                    1   \n",
       "215626                             0                                    0   \n",
       "101192                             0                                    1   \n",
       "241892                             0                                    0   \n",
       "54102                              0                                    1   \n",
       "\n",
       "        has_superstructure_stone_flag  has_superstructure_mud_mortar_brick  \\\n",
       "179999                              0                                    0   \n",
       "215626                              0                                    0   \n",
       "101192                              0                                    0   \n",
       "241892                              0                                    0   \n",
       "54102                               0                                    0   \n",
       "\n",
       "        damage_grade  \n",
       "179999             1  \n",
       "215626             1  \n",
       "101192             1  \n",
       "241892             1  \n",
       "54102              1  "
      ]
     },
     "execution_count": 8,
     "metadata": {},
     "output_type": "execute_result"
    }
   ],
   "source": [
    "train_data.head()"
   ]
  },
  {
   "cell_type": "code",
   "execution_count": 9,
   "id": "2de31ac9",
   "metadata": {},
   "outputs": [],
   "source": [
    "from sklearn.preprocessing import LabelEncoder\n",
    "encoder = LabelEncoder()"
   ]
  },
  {
   "cell_type": "code",
   "execution_count": 10,
   "id": "b2e6dacf",
   "metadata": {},
   "outputs": [],
   "source": [
    "train_data[\"foundation_type\"] = encoder.fit_transform(train_data[\"foundation_type\"])\n",
    "train_data[\"roof_type\"] = encoder.fit_transform(train_data[\"roof_type\"])\n",
    "train_data[\"ground_floor_type\"] = encoder.fit_transform(train_data[\"ground_floor_type\"])\n",
    "train_data[\"other_floor_type\"] = encoder.fit_transform(train_data[\"other_floor_type\"])"
   ]
  },
  {
   "cell_type": "code",
   "execution_count": 11,
   "id": "c8e6e982",
   "metadata": {},
   "outputs": [
    {
     "data": {
      "text/html": [
       "<div>\n",
       "<style scoped>\n",
       "    .dataframe tbody tr th:only-of-type {\n",
       "        vertical-align: middle;\n",
       "    }\n",
       "\n",
       "    .dataframe tbody tr th {\n",
       "        vertical-align: top;\n",
       "    }\n",
       "\n",
       "    .dataframe thead th {\n",
       "        text-align: right;\n",
       "    }\n",
       "</style>\n",
       "<table border=\"1\" class=\"dataframe\">\n",
       "  <thead>\n",
       "    <tr style=\"text-align: right;\">\n",
       "      <th></th>\n",
       "      <th>geo_level_1_id</th>\n",
       "      <th>geo_level_2_id</th>\n",
       "      <th>count_floors_pre_eq</th>\n",
       "      <th>age</th>\n",
       "      <th>foundation_type</th>\n",
       "      <th>roof_type</th>\n",
       "      <th>ground_floor_type</th>\n",
       "      <th>other_floor_type</th>\n",
       "      <th>has_superstructure_adobe_mud</th>\n",
       "      <th>has_superstructure_mud_mortar_stone</th>\n",
       "      <th>has_superstructure_stone_flag</th>\n",
       "      <th>has_superstructure_mud_mortar_brick</th>\n",
       "      <th>damage_grade</th>\n",
       "    </tr>\n",
       "  </thead>\n",
       "  <tbody>\n",
       "    <tr>\n",
       "      <th>179999</th>\n",
       "      <td>15</td>\n",
       "      <td>1338</td>\n",
       "      <td>2</td>\n",
       "      <td>5</td>\n",
       "      <td>2</td>\n",
       "      <td>0</td>\n",
       "      <td>0</td>\n",
       "      <td>1</td>\n",
       "      <td>0</td>\n",
       "      <td>1</td>\n",
       "      <td>0</td>\n",
       "      <td>0</td>\n",
       "      <td>1</td>\n",
       "    </tr>\n",
       "    <tr>\n",
       "      <th>215626</th>\n",
       "      <td>26</td>\n",
       "      <td>36</td>\n",
       "      <td>2</td>\n",
       "      <td>0</td>\n",
       "      <td>2</td>\n",
       "      <td>0</td>\n",
       "      <td>2</td>\n",
       "      <td>1</td>\n",
       "      <td>0</td>\n",
       "      <td>0</td>\n",
       "      <td>0</td>\n",
       "      <td>0</td>\n",
       "      <td>1</td>\n",
       "    </tr>\n",
       "    <tr>\n",
       "      <th>101192</th>\n",
       "      <td>13</td>\n",
       "      <td>1125</td>\n",
       "      <td>3</td>\n",
       "      <td>35</td>\n",
       "      <td>2</td>\n",
       "      <td>1</td>\n",
       "      <td>3</td>\n",
       "      <td>1</td>\n",
       "      <td>0</td>\n",
       "      <td>1</td>\n",
       "      <td>0</td>\n",
       "      <td>0</td>\n",
       "      <td>1</td>\n",
       "    </tr>\n",
       "    <tr>\n",
       "      <th>241892</th>\n",
       "      <td>21</td>\n",
       "      <td>363</td>\n",
       "      <td>1</td>\n",
       "      <td>0</td>\n",
       "      <td>4</td>\n",
       "      <td>0</td>\n",
       "      <td>0</td>\n",
       "      <td>0</td>\n",
       "      <td>0</td>\n",
       "      <td>0</td>\n",
       "      <td>0</td>\n",
       "      <td>0</td>\n",
       "      <td>1</td>\n",
       "    </tr>\n",
       "    <tr>\n",
       "      <th>54102</th>\n",
       "      <td>16</td>\n",
       "      <td>400</td>\n",
       "      <td>3</td>\n",
       "      <td>10</td>\n",
       "      <td>2</td>\n",
       "      <td>0</td>\n",
       "      <td>3</td>\n",
       "      <td>3</td>\n",
       "      <td>0</td>\n",
       "      <td>1</td>\n",
       "      <td>0</td>\n",
       "      <td>0</td>\n",
       "      <td>1</td>\n",
       "    </tr>\n",
       "  </tbody>\n",
       "</table>\n",
       "</div>"
      ],
      "text/plain": [
       "        geo_level_1_id  geo_level_2_id  count_floors_pre_eq  age  \\\n",
       "179999              15            1338                    2    5   \n",
       "215626              26              36                    2    0   \n",
       "101192              13            1125                    3   35   \n",
       "241892              21             363                    1    0   \n",
       "54102               16             400                    3   10   \n",
       "\n",
       "        foundation_type  roof_type  ground_floor_type  other_floor_type  \\\n",
       "179999                2          0                  0                 1   \n",
       "215626                2          0                  2                 1   \n",
       "101192                2          1                  3                 1   \n",
       "241892                4          0                  0                 0   \n",
       "54102                 2          0                  3                 3   \n",
       "\n",
       "        has_superstructure_adobe_mud  has_superstructure_mud_mortar_stone  \\\n",
       "179999                             0                                    1   \n",
       "215626                             0                                    0   \n",
       "101192                             0                                    1   \n",
       "241892                             0                                    0   \n",
       "54102                              0                                    1   \n",
       "\n",
       "        has_superstructure_stone_flag  has_superstructure_mud_mortar_brick  \\\n",
       "179999                              0                                    0   \n",
       "215626                              0                                    0   \n",
       "101192                              0                                    0   \n",
       "241892                              0                                    0   \n",
       "54102                               0                                    0   \n",
       "\n",
       "        damage_grade  \n",
       "179999             1  \n",
       "215626             1  \n",
       "101192             1  \n",
       "241892             1  \n",
       "54102              1  "
      ]
     },
     "execution_count": 11,
     "metadata": {},
     "output_type": "execute_result"
    }
   ],
   "source": [
    "train_data.head()"
   ]
  },
  {
   "cell_type": "code",
   "execution_count": 12,
   "id": "8dc0f1a1",
   "metadata": {},
   "outputs": [],
   "source": [
    "x = train_data.iloc[:, :-1].values\n",
    "y = train_data.iloc[:,12].values"
   ]
  },
  {
   "cell_type": "code",
   "execution_count": 13,
   "id": "71211821",
   "metadata": {},
   "outputs": [],
   "source": [
    "from sklearn.model_selection import train_test_split\n",
    "X_train, X_test, y_train, y_test = train_test_split(x, y, test_size=0.20)"
   ]
  },
  {
   "cell_type": "code",
   "execution_count": 14,
   "id": "8f9b06c1",
   "metadata": {},
   "outputs": [
    {
     "data": {
      "text/plain": [
       "KNeighborsClassifier(n_neighbors=275)"
      ]
     },
     "execution_count": 14,
     "metadata": {},
     "output_type": "execute_result"
    }
   ],
   "source": [
    "from sklearn.neighbors import KNeighborsClassifier\n",
    "classifier = KNeighborsClassifier(n_neighbors=275)\n",
    "classifier.fit(X_train, y_train)"
   ]
  },
  {
   "cell_type": "code",
   "execution_count": 15,
   "id": "cd765f44",
   "metadata": {},
   "outputs": [
    {
     "name": "stderr",
     "output_type": "stream",
     "text": [
      "C:\\Users\\Brad\\anaconda3\\lib\\site-packages\\sklearn\\neighbors\\_classification.py:228: FutureWarning: Unlike other reduction functions (e.g. `skew`, `kurtosis`), the default behavior of `mode` typically preserves the axis it acts along. In SciPy 1.11.0, this behavior will change: the default value of `keepdims` will become False, the `axis` over which the statistic is taken will be eliminated, and the value None will no longer be accepted. Set `keepdims` to True or False to avoid this warning.\n",
      "  mode, _ = stats.mode(_y[neigh_ind, k], axis=1)\n"
     ]
    }
   ],
   "source": [
    "y_pred = classifier.predict(X_test)\n"
   ]
  },
  {
   "cell_type": "code",
   "execution_count": 16,
   "id": "805b0340",
   "metadata": {},
   "outputs": [
    {
     "name": "stdout",
     "output_type": "stream",
     "text": [
      "              precision    recall  f1-score   support\n",
      "\n",
      "           1       0.62      0.70      0.66      5011\n",
      "           2       0.49      0.33      0.39      5075\n",
      "           3       0.51      0.62      0.56      4989\n",
      "\n",
      "    accuracy                           0.55     15075\n",
      "   macro avg       0.54      0.55      0.53     15075\n",
      "weighted avg       0.54      0.55      0.53     15075\n",
      "\n"
     ]
    }
   ],
   "source": [
    "from sklearn.metrics import classification_report, confusion_matrix\n",
    "print(classification_report(y_test, y_pred))"
   ]
  },
  {
   "cell_type": "code",
   "execution_count": 17,
   "id": "cfdbb8c3",
   "metadata": {},
   "outputs": [],
   "source": [
    "import seaborn as sns\n",
    "\n",
    "# Compute the confusion matrix\n",
    "cm = confusion_matrix(y_test, y_pred)\n",
    "\n",
    "axis_tick_labels = ['Grade 1', 'Grade 2', 'Grade 3']"
   ]
  },
  {
   "cell_type": "code",
   "execution_count": 19,
   "id": "e63fdf6c",
   "metadata": {},
   "outputs": [
    {
     "data": {
      "image/png": "[encoded data removed]",
      "text/plain": [
       "<Figure size 640x480 with 2 Axes>"
      ]
     },
     "metadata": {},
     "output_type": "display_data"
    }
   ],
   "source": [
    "# Plot the confusion matrix as a heatmap\n",
    "sns.heatmap(cm, annot=True, cmap=\"YlGnBu\", fmt=\"d\", xticklabels=axis_tick_labels, yticklabels=axis_tick_labels)\n",
    "# plt.title(\"k-NN w/ Merged FS Prediction Matrix\")\n",
    "plt.title(\"(b) \\nk-NN with GB\")\n",
    "plt.xlabel(\"Predicted Damage Grade\")\n",
    "plt.ylabel(\"True Damage Grade\")\n",
    "plt.show()"
   ]
  },
  {
   "cell_type": "code",
   "execution_count": null,
   "id": "d9d5d156",
   "metadata": {},
   "outputs": [],
   "source": []
  },
  {
   "cell_type": "code",
   "execution_count": null,
   "id": "33a40739",
   "metadata": {},
   "outputs": [],
   "source": []
  }
 ],
 "metadata": {
  "kernelspec": {
   "display_name": "Python 3 (ipykernel)",
   "language": "python",
   "name": "python3"
  },
  "language_info": {
   "codemirror_mode": {
    "name": "ipython",
    "version": 3
   },
   "file_extension": ".py",
   "mimetype": "text/x-python",
   "name": "python",
   "nbconvert_exporter": "python",
   "pygments_lexer": "ipython3",
   "version": "3.9.13"
  }
 },
 "nbformat": 4,
 "nbformat_minor": 5
}
