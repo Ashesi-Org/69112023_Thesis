{
 "cells": [
  {
   "cell_type": "code",
   "execution_count": 1,
   "id": "22b85420",
   "metadata": {},
   "outputs": [],
   "source": [
    "# Random Forest with Decision Tree Feature Selection"
   ]
  },
  {
   "cell_type": "code",
   "execution_count": 2,
   "id": "dfebafb2",
   "metadata": {},
   "outputs": [],
   "source": [
    "import numpy as np\n",
    "import matplotlib.pyplot as plt\n",
    "import pandas as pd"
   ]
  },
  {
   "cell_type": "code",
   "execution_count": 3,
   "id": "d0a571de",
   "metadata": {},
   "outputs": [],
   "source": [
    "train_data = pd.read_csv(r\"C:\\Users\\Brad\\OneDrive - Ashesi University\\Desktop\\Ashesi University\\Senior Year Sem 2\\Capstone 2\\Data\\dt_fs_train_data_2.csv\")"
   ]
  },
  {
   "cell_type": "code",
   "execution_count": 4,
   "id": "0edb17a5",
   "metadata": {},
   "outputs": [],
   "source": [
    "damage_labels = [1, 2, 3]"
   ]
  },
  {
   "cell_type": "code",
   "execution_count": 5,
   "id": "94f5e6fc",
   "metadata": {},
   "outputs": [],
   "source": [
    "#Finding minimum sample count\n",
    "min_count = np.inf\n",
    "for label in damage_labels:\n",
    "    count = (train_data[\"damage_grade\"] == label).sum()\n",
    "    if count < min_count:\n",
    "        min_count = count"
   ]
  },
  {
   "cell_type": "code",
   "execution_count": 6,
   "id": "f1497be2",
   "metadata": {},
   "outputs": [
    {
     "name": "stdout",
     "output_type": "stream",
     "text": [
      "25124\n"
     ]
    }
   ],
   "source": [
    "print(min_count)"
   ]
  },
  {
   "cell_type": "code",
   "execution_count": 7,
   "id": "029b6700",
   "metadata": {},
   "outputs": [],
   "source": [
    "# Selecting random number of samples equal to the min sample count\n",
    "bal_train_data = pd.concat([train_data[train_data[\"damage_grade\"] == label].sample(min_count) for label in damage_labels])\n",
    "train_data = bal_train_data"
   ]
  },
  {
   "cell_type": "code",
   "execution_count": 8,
   "id": "540c2f42",
   "metadata": {},
   "outputs": [
    {
     "data": {
      "text/html": [
       "<div>\n",
       "<style scoped>\n",
       "    .dataframe tbody tr th:only-of-type {\n",
       "        vertical-align: middle;\n",
       "    }\n",
       "\n",
       "    .dataframe tbody tr th {\n",
       "        vertical-align: top;\n",
       "    }\n",
       "\n",
       "    .dataframe thead th {\n",
       "        text-align: right;\n",
       "    }\n",
       "</style>\n",
       "<table border=\"1\" class=\"dataframe\">\n",
       "  <thead>\n",
       "    <tr style=\"text-align: right;\">\n",
       "      <th></th>\n",
       "      <th>geo_level_1_id</th>\n",
       "      <th>geo_level_2_id</th>\n",
       "      <th>geo_level_3_id</th>\n",
       "      <th>count_floors_pre_eq</th>\n",
       "      <th>age</th>\n",
       "      <th>area_percentage</th>\n",
       "      <th>height_percentage</th>\n",
       "      <th>land_surface_condition</th>\n",
       "      <th>foundation_type</th>\n",
       "      <th>roof_type</th>\n",
       "      <th>ground_floor_type</th>\n",
       "      <th>other_floor_type</th>\n",
       "      <th>position</th>\n",
       "      <th>has_superstructure_adobe_mud</th>\n",
       "      <th>has_superstructure_mud_mortar_stone</th>\n",
       "      <th>has_superstructure_stone_flag</th>\n",
       "      <th>has_superstructure_mud_mortar_brick</th>\n",
       "      <th>has_superstructure_timber</th>\n",
       "      <th>count_families</th>\n",
       "      <th>damage_grade</th>\n",
       "    </tr>\n",
       "  </thead>\n",
       "  <tbody>\n",
       "    <tr>\n",
       "      <th>200992</th>\n",
       "      <td>6</td>\n",
       "      <td>460</td>\n",
       "      <td>6253</td>\n",
       "      <td>4</td>\n",
       "      <td>10</td>\n",
       "      <td>6</td>\n",
       "      <td>10</td>\n",
       "      <td>t</td>\n",
       "      <td>i</td>\n",
       "      <td>x</td>\n",
       "      <td>v</td>\n",
       "      <td>s</td>\n",
       "      <td>j</td>\n",
       "      <td>0</td>\n",
       "      <td>0</td>\n",
       "      <td>0</td>\n",
       "      <td>0</td>\n",
       "      <td>0</td>\n",
       "      <td>1</td>\n",
       "      <td>1</td>\n",
       "    </tr>\n",
       "    <tr>\n",
       "      <th>163224</th>\n",
       "      <td>6</td>\n",
       "      <td>539</td>\n",
       "      <td>2115</td>\n",
       "      <td>1</td>\n",
       "      <td>10</td>\n",
       "      <td>13</td>\n",
       "      <td>2</td>\n",
       "      <td>t</td>\n",
       "      <td>r</td>\n",
       "      <td>x</td>\n",
       "      <td>f</td>\n",
       "      <td>j</td>\n",
       "      <td>t</td>\n",
       "      <td>0</td>\n",
       "      <td>0</td>\n",
       "      <td>0</td>\n",
       "      <td>0</td>\n",
       "      <td>0</td>\n",
       "      <td>1</td>\n",
       "      <td>1</td>\n",
       "    </tr>\n",
       "    <tr>\n",
       "      <th>208057</th>\n",
       "      <td>20</td>\n",
       "      <td>173</td>\n",
       "      <td>2261</td>\n",
       "      <td>1</td>\n",
       "      <td>20</td>\n",
       "      <td>11</td>\n",
       "      <td>3</td>\n",
       "      <td>t</td>\n",
       "      <td>w</td>\n",
       "      <td>q</td>\n",
       "      <td>f</td>\n",
       "      <td>j</td>\n",
       "      <td>s</td>\n",
       "      <td>0</td>\n",
       "      <td>0</td>\n",
       "      <td>0</td>\n",
       "      <td>0</td>\n",
       "      <td>1</td>\n",
       "      <td>0</td>\n",
       "      <td>1</td>\n",
       "    </tr>\n",
       "    <tr>\n",
       "      <th>252919</th>\n",
       "      <td>26</td>\n",
       "      <td>36</td>\n",
       "      <td>11076</td>\n",
       "      <td>2</td>\n",
       "      <td>10</td>\n",
       "      <td>11</td>\n",
       "      <td>6</td>\n",
       "      <td>t</td>\n",
       "      <td>r</td>\n",
       "      <td>n</td>\n",
       "      <td>f</td>\n",
       "      <td>x</td>\n",
       "      <td>s</td>\n",
       "      <td>0</td>\n",
       "      <td>1</td>\n",
       "      <td>0</td>\n",
       "      <td>0</td>\n",
       "      <td>0</td>\n",
       "      <td>1</td>\n",
       "      <td>1</td>\n",
       "    </tr>\n",
       "    <tr>\n",
       "      <th>211787</th>\n",
       "      <td>26</td>\n",
       "      <td>1001</td>\n",
       "      <td>12258</td>\n",
       "      <td>1</td>\n",
       "      <td>5</td>\n",
       "      <td>3</td>\n",
       "      <td>3</td>\n",
       "      <td>t</td>\n",
       "      <td>w</td>\n",
       "      <td>n</td>\n",
       "      <td>f</td>\n",
       "      <td>x</td>\n",
       "      <td>s</td>\n",
       "      <td>0</td>\n",
       "      <td>0</td>\n",
       "      <td>0</td>\n",
       "      <td>0</td>\n",
       "      <td>1</td>\n",
       "      <td>1</td>\n",
       "      <td>1</td>\n",
       "    </tr>\n",
       "  </tbody>\n",
       "</table>\n",
       "</div>"
      ],
      "text/plain": [
       "        geo_level_1_id  geo_level_2_id  geo_level_3_id  count_floors_pre_eq  \\\n",
       "200992               6             460            6253                    4   \n",
       "163224               6             539            2115                    1   \n",
       "208057              20             173            2261                    1   \n",
       "252919              26              36           11076                    2   \n",
       "211787              26            1001           12258                    1   \n",
       "\n",
       "        age  area_percentage  height_percentage land_surface_condition  \\\n",
       "200992   10                6                 10                      t   \n",
       "163224   10               13                  2                      t   \n",
       "208057   20               11                  3                      t   \n",
       "252919   10               11                  6                      t   \n",
       "211787    5                3                  3                      t   \n",
       "\n",
       "       foundation_type roof_type ground_floor_type other_floor_type position  \\\n",
       "200992               i         x                 v                s        j   \n",
       "163224               r         x                 f                j        t   \n",
       "208057               w         q                 f                j        s   \n",
       "252919               r         n                 f                x        s   \n",
       "211787               w         n                 f                x        s   \n",
       "\n",
       "        has_superstructure_adobe_mud  has_superstructure_mud_mortar_stone  \\\n",
       "200992                             0                                    0   \n",
       "163224                             0                                    0   \n",
       "208057                             0                                    0   \n",
       "252919                             0                                    1   \n",
       "211787                             0                                    0   \n",
       "\n",
       "        has_superstructure_stone_flag  has_superstructure_mud_mortar_brick  \\\n",
       "200992                              0                                    0   \n",
       "163224                              0                                    0   \n",
       "208057                              0                                    0   \n",
       "252919                              0                                    0   \n",
       "211787                              0                                    0   \n",
       "\n",
       "        has_superstructure_timber  count_families  damage_grade  \n",
       "200992                          0               1             1  \n",
       "163224                          0               1             1  \n",
       "208057                          1               0             1  \n",
       "252919                          0               1             1  \n",
       "211787                          1               1             1  "
      ]
     },
     "execution_count": 8,
     "metadata": {},
     "output_type": "execute_result"
    }
   ],
   "source": [
    "train_data.head()"
   ]
  },
  {
   "cell_type": "code",
   "execution_count": 9,
   "id": "e9b3af66",
   "metadata": {},
   "outputs": [],
   "source": [
    "from sklearn.preprocessing import LabelEncoder\n",
    "encoder = LabelEncoder()"
   ]
  },
  {
   "cell_type": "code",
   "execution_count": 10,
   "id": "1e1d4b07",
   "metadata": {},
   "outputs": [],
   "source": [
    "train_data[\"land_surface_condition\"] = encoder.fit_transform(train_data[\"land_surface_condition\"])\n",
    "train_data[\"foundation_type\"] = encoder.fit_transform(train_data[\"foundation_type\"])\n",
    "train_data[\"roof_type\"] = encoder.fit_transform(train_data[\"roof_type\"])\n",
    "train_data[\"ground_floor_type\"] = encoder.fit_transform(train_data[\"ground_floor_type\"])\n",
    "train_data[\"other_floor_type\"] = encoder.fit_transform(train_data[\"other_floor_type\"])\n",
    "train_data[\"position\"] = encoder.fit_transform(train_data[\"position\"])"
   ]
  },
  {
   "cell_type": "code",
   "execution_count": 11,
   "id": "3b480ea3",
   "metadata": {},
   "outputs": [
    {
     "data": {
      "text/html": [
       "<div>\n",
       "<style scoped>\n",
       "    .dataframe tbody tr th:only-of-type {\n",
       "        vertical-align: middle;\n",
       "    }\n",
       "\n",
       "    .dataframe tbody tr th {\n",
       "        vertical-align: top;\n",
       "    }\n",
       "\n",
       "    .dataframe thead th {\n",
       "        text-align: right;\n",
       "    }\n",
       "</style>\n",
       "<table border=\"1\" class=\"dataframe\">\n",
       "  <thead>\n",
       "    <tr style=\"text-align: right;\">\n",
       "      <th></th>\n",
       "      <th>geo_level_1_id</th>\n",
       "      <th>geo_level_2_id</th>\n",
       "      <th>geo_level_3_id</th>\n",
       "      <th>count_floors_pre_eq</th>\n",
       "      <th>age</th>\n",
       "      <th>area_percentage</th>\n",
       "      <th>height_percentage</th>\n",
       "      <th>land_surface_condition</th>\n",
       "      <th>foundation_type</th>\n",
       "      <th>roof_type</th>\n",
       "      <th>ground_floor_type</th>\n",
       "      <th>other_floor_type</th>\n",
       "      <th>position</th>\n",
       "      <th>has_superstructure_adobe_mud</th>\n",
       "      <th>has_superstructure_mud_mortar_stone</th>\n",
       "      <th>has_superstructure_stone_flag</th>\n",
       "      <th>has_superstructure_mud_mortar_brick</th>\n",
       "      <th>has_superstructure_timber</th>\n",
       "      <th>count_families</th>\n",
       "      <th>damage_grade</th>\n",
       "    </tr>\n",
       "  </thead>\n",
       "  <tbody>\n",
       "    <tr>\n",
       "      <th>200992</th>\n",
       "      <td>6</td>\n",
       "      <td>460</td>\n",
       "      <td>6253</td>\n",
       "      <td>4</td>\n",
       "      <td>10</td>\n",
       "      <td>6</td>\n",
       "      <td>10</td>\n",
       "      <td>2</td>\n",
       "      <td>1</td>\n",
       "      <td>2</td>\n",
       "      <td>2</td>\n",
       "      <td>2</td>\n",
       "      <td>0</td>\n",
       "      <td>0</td>\n",
       "      <td>0</td>\n",
       "      <td>0</td>\n",
       "      <td>0</td>\n",
       "      <td>0</td>\n",
       "      <td>1</td>\n",
       "      <td>1</td>\n",
       "    </tr>\n",
       "    <tr>\n",
       "      <th>163224</th>\n",
       "      <td>6</td>\n",
       "      <td>539</td>\n",
       "      <td>2115</td>\n",
       "      <td>1</td>\n",
       "      <td>10</td>\n",
       "      <td>13</td>\n",
       "      <td>2</td>\n",
       "      <td>2</td>\n",
       "      <td>2</td>\n",
       "      <td>2</td>\n",
       "      <td>0</td>\n",
       "      <td>0</td>\n",
       "      <td>3</td>\n",
       "      <td>0</td>\n",
       "      <td>0</td>\n",
       "      <td>0</td>\n",
       "      <td>0</td>\n",
       "      <td>0</td>\n",
       "      <td>1</td>\n",
       "      <td>1</td>\n",
       "    </tr>\n",
       "    <tr>\n",
       "      <th>208057</th>\n",
       "      <td>20</td>\n",
       "      <td>173</td>\n",
       "      <td>2261</td>\n",
       "      <td>1</td>\n",
       "      <td>20</td>\n",
       "      <td>11</td>\n",
       "      <td>3</td>\n",
       "      <td>2</td>\n",
       "      <td>4</td>\n",
       "      <td>1</td>\n",
       "      <td>0</td>\n",
       "      <td>0</td>\n",
       "      <td>2</td>\n",
       "      <td>0</td>\n",
       "      <td>0</td>\n",
       "      <td>0</td>\n",
       "      <td>0</td>\n",
       "      <td>1</td>\n",
       "      <td>0</td>\n",
       "      <td>1</td>\n",
       "    </tr>\n",
       "    <tr>\n",
       "      <th>252919</th>\n",
       "      <td>26</td>\n",
       "      <td>36</td>\n",
       "      <td>11076</td>\n",
       "      <td>2</td>\n",
       "      <td>10</td>\n",
       "      <td>11</td>\n",
       "      <td>6</td>\n",
       "      <td>2</td>\n",
       "      <td>2</td>\n",
       "      <td>0</td>\n",
       "      <td>0</td>\n",
       "      <td>3</td>\n",
       "      <td>2</td>\n",
       "      <td>0</td>\n",
       "      <td>1</td>\n",
       "      <td>0</td>\n",
       "      <td>0</td>\n",
       "      <td>0</td>\n",
       "      <td>1</td>\n",
       "      <td>1</td>\n",
       "    </tr>\n",
       "    <tr>\n",
       "      <th>211787</th>\n",
       "      <td>26</td>\n",
       "      <td>1001</td>\n",
       "      <td>12258</td>\n",
       "      <td>1</td>\n",
       "      <td>5</td>\n",
       "      <td>3</td>\n",
       "      <td>3</td>\n",
       "      <td>2</td>\n",
       "      <td>4</td>\n",
       "      <td>0</td>\n",
       "      <td>0</td>\n",
       "      <td>3</td>\n",
       "      <td>2</td>\n",
       "      <td>0</td>\n",
       "      <td>0</td>\n",
       "      <td>0</td>\n",
       "      <td>0</td>\n",
       "      <td>1</td>\n",
       "      <td>1</td>\n",
       "      <td>1</td>\n",
       "    </tr>\n",
       "  </tbody>\n",
       "</table>\n",
       "</div>"
      ],
      "text/plain": [
       "        geo_level_1_id  geo_level_2_id  geo_level_3_id  count_floors_pre_eq  \\\n",
       "200992               6             460            6253                    4   \n",
       "163224               6             539            2115                    1   \n",
       "208057              20             173            2261                    1   \n",
       "252919              26              36           11076                    2   \n",
       "211787              26            1001           12258                    1   \n",
       "\n",
       "        age  area_percentage  height_percentage  land_surface_condition  \\\n",
       "200992   10                6                 10                       2   \n",
       "163224   10               13                  2                       2   \n",
       "208057   20               11                  3                       2   \n",
       "252919   10               11                  6                       2   \n",
       "211787    5                3                  3                       2   \n",
       "\n",
       "        foundation_type  roof_type  ground_floor_type  other_floor_type  \\\n",
       "200992                1          2                  2                 2   \n",
       "163224                2          2                  0                 0   \n",
       "208057                4          1                  0                 0   \n",
       "252919                2          0                  0                 3   \n",
       "211787                4          0                  0                 3   \n",
       "\n",
       "        position  has_superstructure_adobe_mud  \\\n",
       "200992         0                             0   \n",
       "163224         3                             0   \n",
       "208057         2                             0   \n",
       "252919         2                             0   \n",
       "211787         2                             0   \n",
       "\n",
       "        has_superstructure_mud_mortar_stone  has_superstructure_stone_flag  \\\n",
       "200992                                    0                              0   \n",
       "163224                                    0                              0   \n",
       "208057                                    0                              0   \n",
       "252919                                    1                              0   \n",
       "211787                                    0                              0   \n",
       "\n",
       "        has_superstructure_mud_mortar_brick  has_superstructure_timber  \\\n",
       "200992                                    0                          0   \n",
       "163224                                    0                          0   \n",
       "208057                                    0                          1   \n",
       "252919                                    0                          0   \n",
       "211787                                    0                          1   \n",
       "\n",
       "        count_families  damage_grade  \n",
       "200992               1             1  \n",
       "163224               1             1  \n",
       "208057               0             1  \n",
       "252919               1             1  \n",
       "211787               1             1  "
      ]
     },
     "execution_count": 11,
     "metadata": {},
     "output_type": "execute_result"
    }
   ],
   "source": [
    "train_data.head()"
   ]
  },
  {
   "cell_type": "code",
   "execution_count": 12,
   "id": "b8140656",
   "metadata": {},
   "outputs": [],
   "source": [
    "x = train_data.iloc[:, :-1].values\n",
    "y = train_data.iloc[:,19].values"
   ]
  },
  {
   "cell_type": "code",
   "execution_count": 13,
   "id": "597c6c55",
   "metadata": {},
   "outputs": [],
   "source": [
    "from sklearn.model_selection import train_test_split\n",
    "X_train, X_test, y_train, y_test = train_test_split(x, y, test_size=0.20)"
   ]
  },
  {
   "cell_type": "code",
   "execution_count": 14,
   "id": "7c0dd492",
   "metadata": {},
   "outputs": [
    {
     "data": {
      "text/plain": [
       "RandomForestClassifier()"
      ]
     },
     "execution_count": 14,
     "metadata": {},
     "output_type": "execute_result"
    }
   ],
   "source": [
    "from sklearn.ensemble import RandomForestClassifier\n",
    "classifier = RandomForestClassifier()\n",
    "classifier.fit(X_train, y_train)"
   ]
  },
  {
   "cell_type": "code",
   "execution_count": 15,
   "id": "96e86927",
   "metadata": {},
   "outputs": [],
   "source": [
    "y_pred = classifier.predict(X_test)"
   ]
  },
  {
   "cell_type": "code",
   "execution_count": 16,
   "id": "643133de",
   "metadata": {},
   "outputs": [
    {
     "name": "stdout",
     "output_type": "stream",
     "text": [
      "              precision    recall  f1-score   support\n",
      "\n",
      "           1       0.79      0.82      0.80      4994\n",
      "           2       0.58      0.55      0.56      5074\n",
      "           3       0.69      0.70      0.70      5007\n",
      "\n",
      "    accuracy                           0.69     15075\n",
      "   macro avg       0.69      0.69      0.69     15075\n",
      "weighted avg       0.69      0.69      0.69     15075\n",
      "\n"
     ]
    }
   ],
   "source": [
    "from sklearn.metrics import classification_report, confusion_matrix\n",
    "print(classification_report(y_test, y_pred))\n",
    "\n"
   ]
  },
  {
   "cell_type": "code",
   "execution_count": 17,
   "id": "ab04f6c0",
   "metadata": {},
   "outputs": [],
   "source": [
    "#Model based Feature Selection\n",
    "\n",
    "from sklearn.feature_selection import SelectFromModel\n",
    "fs = SelectFromModel(classifier, threshold='median')\n",
    "fs.fit(X_train,y_train)\n",
    "fs_features = fs.transform(X_train)"
   ]
  },
  {
   "cell_type": "code",
   "execution_count": 18,
   "id": "aae4074f",
   "metadata": {},
   "outputs": [
    {
     "name": "stdout",
     "output_type": "stream",
     "text": [
      "[ 0  1  2  4  5  6  8  9 10 14]\n"
     ]
    }
   ],
   "source": [
    "# Print the indices of the selected features\n",
    "print(fs.get_support(indices=True))"
   ]
  },
  {
   "cell_type": "code",
   "execution_count": 19,
   "id": "0490dca0",
   "metadata": {},
   "outputs": [],
   "source": [
    "from sklearn.metrics import confusion_matrix\n",
    "import seaborn as sns\n",
    "\n",
    "# Compute the confusion matrix\n",
    "cm = confusion_matrix(y_test, y_pred)\n",
    "\n",
    "axis_tick_labels = ['Grade 1', 'Grade 2', 'Grade 3']\n"
   ]
  },
  {
   "cell_type": "code",
   "execution_count": 20,
   "id": "72329c3c",
   "metadata": {},
   "outputs": [
    {
     "data": {
      "image/png": "[encoded data removed]",
      "text/plain": [
       "<Figure size 640x480 with 2 Axes>"
      ]
     },
     "metadata": {},
     "output_type": "display_data"
    }
   ],
   "source": [
    "# Plot the confusion matrix as a heatmap\n",
    "sns.heatmap(cm, annot=True, cmap=\"YlGnBu\", fmt=\"d\", xticklabels=axis_tick_labels, yticklabels=axis_tick_labels)\n",
    "plt.title(\"RF Prediction Matrix\")\n",
    "plt.xlabel(\"Predicted Damage Grade\")\n",
    "plt.ylabel(\"True Damage Grade\")\n",
    "plt.show()"
   ]
  },
  {
   "cell_type": "code",
   "execution_count": 21,
   "id": "2f91c152",
   "metadata": {},
   "outputs": [],
   "source": [
    "from sklearn.tree import export_text"
   ]
  },
  {
   "cell_type": "code",
   "execution_count": 22,
   "id": "bb6e3902",
   "metadata": {},
   "outputs": [],
   "source": [
    "features_data = train_data.drop(columns=['damage_grade'], axis=1)"
   ]
  },
  {
   "cell_type": "code",
   "execution_count": 23,
   "id": "834b6fed",
   "metadata": {},
   "outputs": [],
   "source": [
    "# # Print out the decision trees in the random forest\n",
    "# for i, tree in enumerate(classifier.estimators_):\n",
    "#     r = export_text(tree, feature_names=features_data.columns.tolist())\n",
    "#     print(f\"Decision Tree {i}:\\n{r}\")\n",
    "\n",
    "# tree = classifier.estimators_[0]\n",
    "# r = export_text(tree, feature_names=features_data.columns.tolist())\n",
    "# print(f\"Decision Tree {0}:\\n{r}\")"
   ]
  },
  {
   "cell_type": "code",
   "execution_count": null,
   "id": "3b78b644",
   "metadata": {},
   "outputs": [],
   "source": []
  },
  {
   "cell_type": "code",
   "execution_count": null,
   "id": "f00f1aad",
   "metadata": {},
   "outputs": [],
   "source": []
  }
 ],
 "metadata": {
  "kernelspec": {
   "display_name": "Python 3 (ipykernel)",
   "language": "python",
   "name": "python3"
  },
  "language_info": {
   "codemirror_mode": {
    "name": "ipython",
    "version": 3
   },
   "file_extension": ".py",
   "mimetype": "text/x-python",
   "name": "python",
   "nbconvert_exporter": "python",
   "pygments_lexer": "ipython3",
   "version": "3.9.13"
  }
 },
 "nbformat": 4,
 "nbformat_minor": 5
}
