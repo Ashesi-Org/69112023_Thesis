{
 "cells": [
  {
   "cell_type": "code",
   "execution_count": 1,
   "id": "1b65198b",
   "metadata": {},
   "outputs": [],
   "source": [
    "# Multi Layer Perceptron with Random Forest Feature Selection"
   ]
  },
  {
   "cell_type": "code",
   "execution_count": 2,
   "id": "9607bce0",
   "metadata": {},
   "outputs": [],
   "source": [
    "import numpy as np\n",
    "import matplotlib.pyplot as plt\n",
    "import pandas as pd\n",
    "import tensorflow as tf"
   ]
  },
  {
   "cell_type": "code",
   "execution_count": 3,
   "id": "3814a9ee",
   "metadata": {},
   "outputs": [],
   "source": [
    "train_data = pd.read_csv(r\"C:\\Users\\Brad\\OneDrive - Ashesi University\\Desktop\\Ashesi University\\Senior Year Sem 2\\Capstone 2\\Data\\rf_fs_train_data_2.csv\")"
   ]
  },
  {
   "cell_type": "code",
   "execution_count": 4,
   "id": "10913d50",
   "metadata": {},
   "outputs": [],
   "source": [
    "damage_labels = [1, 2, 3]"
   ]
  },
  {
   "cell_type": "code",
   "execution_count": 5,
   "id": "26c89e04",
   "metadata": {},
   "outputs": [],
   "source": [
    "#Finding minimum sample count\n",
    "min_count = np.inf\n",
    "for label in damage_labels:\n",
    "    count = (train_data[\"damage_grade\"] == label).sum()\n",
    "    if count < min_count:\n",
    "        min_count = count"
   ]
  },
  {
   "cell_type": "code",
   "execution_count": 6,
   "id": "d36df1ce",
   "metadata": {},
   "outputs": [
    {
     "name": "stdout",
     "output_type": "stream",
     "text": [
      "25124\n"
     ]
    }
   ],
   "source": [
    "print(min_count)"
   ]
  },
  {
   "cell_type": "code",
   "execution_count": 7,
   "id": "42c00893",
   "metadata": {},
   "outputs": [],
   "source": [
    "# Selecting random number of samples equal to the min sample count\n",
    "bal_train_data = pd.concat([train_data[train_data[\"damage_grade\"] == label].sample(min_count) for label in damage_labels])\n",
    "train_data = bal_train_data"
   ]
  },
  {
   "cell_type": "code",
   "execution_count": 8,
   "id": "1546ad86",
   "metadata": {},
   "outputs": [
    {
     "data": {
      "text/html": [
       "<div>\n",
       "<style scoped>\n",
       "    .dataframe tbody tr th:only-of-type {\n",
       "        vertical-align: middle;\n",
       "    }\n",
       "\n",
       "    .dataframe tbody tr th {\n",
       "        vertical-align: top;\n",
       "    }\n",
       "\n",
       "    .dataframe thead th {\n",
       "        text-align: right;\n",
       "    }\n",
       "</style>\n",
       "<table border=\"1\" class=\"dataframe\">\n",
       "  <thead>\n",
       "    <tr style=\"text-align: right;\">\n",
       "      <th></th>\n",
       "      <th>geo_level_1_id</th>\n",
       "      <th>geo_level_2_id</th>\n",
       "      <th>geo_level_3_id</th>\n",
       "      <th>count_floors_pre_eq</th>\n",
       "      <th>age</th>\n",
       "      <th>area_percentage</th>\n",
       "      <th>height_percentage</th>\n",
       "      <th>land_surface_condition</th>\n",
       "      <th>foundation_type</th>\n",
       "      <th>roof_type</th>\n",
       "      <th>ground_floor_type</th>\n",
       "      <th>other_floor_type</th>\n",
       "      <th>position</th>\n",
       "      <th>has_superstructure_adobe_mud</th>\n",
       "      <th>has_superstructure_mud_mortar_stone</th>\n",
       "      <th>has_superstructure_mud_mortar_brick</th>\n",
       "      <th>has_superstructure_cement_mortar_brick</th>\n",
       "      <th>has_superstructure_timber</th>\n",
       "      <th>count_families</th>\n",
       "      <th>damage_grade</th>\n",
       "    </tr>\n",
       "  </thead>\n",
       "  <tbody>\n",
       "    <tr>\n",
       "      <th>11460</th>\n",
       "      <td>22</td>\n",
       "      <td>1366</td>\n",
       "      <td>5510</td>\n",
       "      <td>2</td>\n",
       "      <td>15</td>\n",
       "      <td>5</td>\n",
       "      <td>5</td>\n",
       "      <td>t</td>\n",
       "      <td>w</td>\n",
       "      <td>n</td>\n",
       "      <td>f</td>\n",
       "      <td>x</td>\n",
       "      <td>s</td>\n",
       "      <td>0</td>\n",
       "      <td>0</td>\n",
       "      <td>0</td>\n",
       "      <td>0</td>\n",
       "      <td>1</td>\n",
       "      <td>1</td>\n",
       "      <td>1</td>\n",
       "    </tr>\n",
       "    <tr>\n",
       "      <th>256730</th>\n",
       "      <td>13</td>\n",
       "      <td>783</td>\n",
       "      <td>11773</td>\n",
       "      <td>3</td>\n",
       "      <td>0</td>\n",
       "      <td>7</td>\n",
       "      <td>5</td>\n",
       "      <td>n</td>\n",
       "      <td>r</td>\n",
       "      <td>n</td>\n",
       "      <td>x</td>\n",
       "      <td>q</td>\n",
       "      <td>s</td>\n",
       "      <td>0</td>\n",
       "      <td>1</td>\n",
       "      <td>0</td>\n",
       "      <td>0</td>\n",
       "      <td>0</td>\n",
       "      <td>1</td>\n",
       "      <td>1</td>\n",
       "    </tr>\n",
       "    <tr>\n",
       "      <th>128430</th>\n",
       "      <td>6</td>\n",
       "      <td>1253</td>\n",
       "      <td>9708</td>\n",
       "      <td>4</td>\n",
       "      <td>5</td>\n",
       "      <td>18</td>\n",
       "      <td>12</td>\n",
       "      <td>t</td>\n",
       "      <td>i</td>\n",
       "      <td>x</td>\n",
       "      <td>v</td>\n",
       "      <td>s</td>\n",
       "      <td>t</td>\n",
       "      <td>0</td>\n",
       "      <td>0</td>\n",
       "      <td>0</td>\n",
       "      <td>0</td>\n",
       "      <td>0</td>\n",
       "      <td>0</td>\n",
       "      <td>1</td>\n",
       "    </tr>\n",
       "    <tr>\n",
       "      <th>178958</th>\n",
       "      <td>13</td>\n",
       "      <td>223</td>\n",
       "      <td>4236</td>\n",
       "      <td>2</td>\n",
       "      <td>20</td>\n",
       "      <td>6</td>\n",
       "      <td>4</td>\n",
       "      <td>t</td>\n",
       "      <td>r</td>\n",
       "      <td>n</td>\n",
       "      <td>f</td>\n",
       "      <td>q</td>\n",
       "      <td>s</td>\n",
       "      <td>0</td>\n",
       "      <td>1</td>\n",
       "      <td>0</td>\n",
       "      <td>0</td>\n",
       "      <td>0</td>\n",
       "      <td>1</td>\n",
       "      <td>1</td>\n",
       "    </tr>\n",
       "    <tr>\n",
       "      <th>256674</th>\n",
       "      <td>20</td>\n",
       "      <td>173</td>\n",
       "      <td>2261</td>\n",
       "      <td>2</td>\n",
       "      <td>15</td>\n",
       "      <td>13</td>\n",
       "      <td>5</td>\n",
       "      <td>t</td>\n",
       "      <td>w</td>\n",
       "      <td>q</td>\n",
       "      <td>f</td>\n",
       "      <td>x</td>\n",
       "      <td>s</td>\n",
       "      <td>0</td>\n",
       "      <td>0</td>\n",
       "      <td>0</td>\n",
       "      <td>0</td>\n",
       "      <td>1</td>\n",
       "      <td>1</td>\n",
       "      <td>1</td>\n",
       "    </tr>\n",
       "  </tbody>\n",
       "</table>\n",
       "</div>"
      ],
      "text/plain": [
       "        geo_level_1_id  geo_level_2_id  geo_level_3_id  count_floors_pre_eq  \\\n",
       "11460               22            1366            5510                    2   \n",
       "256730              13             783           11773                    3   \n",
       "128430               6            1253            9708                    4   \n",
       "178958              13             223            4236                    2   \n",
       "256674              20             173            2261                    2   \n",
       "\n",
       "        age  area_percentage  height_percentage land_surface_condition  \\\n",
       "11460    15                5                  5                      t   \n",
       "256730    0                7                  5                      n   \n",
       "128430    5               18                 12                      t   \n",
       "178958   20                6                  4                      t   \n",
       "256674   15               13                  5                      t   \n",
       "\n",
       "       foundation_type roof_type ground_floor_type other_floor_type position  \\\n",
       "11460                w         n                 f                x        s   \n",
       "256730               r         n                 x                q        s   \n",
       "128430               i         x                 v                s        t   \n",
       "178958               r         n                 f                q        s   \n",
       "256674               w         q                 f                x        s   \n",
       "\n",
       "        has_superstructure_adobe_mud  has_superstructure_mud_mortar_stone  \\\n",
       "11460                              0                                    0   \n",
       "256730                             0                                    1   \n",
       "128430                             0                                    0   \n",
       "178958                             0                                    1   \n",
       "256674                             0                                    0   \n",
       "\n",
       "        has_superstructure_mud_mortar_brick  \\\n",
       "11460                                     0   \n",
       "256730                                    0   \n",
       "128430                                    0   \n",
       "178958                                    0   \n",
       "256674                                    0   \n",
       "\n",
       "        has_superstructure_cement_mortar_brick  has_superstructure_timber  \\\n",
       "11460                                        0                          1   \n",
       "256730                                       0                          0   \n",
       "128430                                       0                          0   \n",
       "178958                                       0                          0   \n",
       "256674                                       0                          1   \n",
       "\n",
       "        count_families  damage_grade  \n",
       "11460                1             1  \n",
       "256730               1             1  \n",
       "128430               0             1  \n",
       "178958               1             1  \n",
       "256674               1             1  "
      ]
     },
     "execution_count": 8,
     "metadata": {},
     "output_type": "execute_result"
    }
   ],
   "source": [
    "train_data.head()"
   ]
  },
  {
   "cell_type": "code",
   "execution_count": 9,
   "id": "167f915d",
   "metadata": {},
   "outputs": [],
   "source": [
    "from sklearn.preprocessing import LabelEncoder\n",
    "encoder = LabelEncoder()"
   ]
  },
  {
   "cell_type": "code",
   "execution_count": 10,
   "id": "15a94e18",
   "metadata": {},
   "outputs": [],
   "source": [
    "train_data[\"land_surface_condition\"] = encoder.fit_transform(train_data[\"land_surface_condition\"])\n",
    "train_data[\"foundation_type\"] = encoder.fit_transform(train_data[\"foundation_type\"])\n",
    "train_data[\"roof_type\"] = encoder.fit_transform(train_data[\"roof_type\"])\n",
    "train_data[\"ground_floor_type\"] = encoder.fit_transform(train_data[\"ground_floor_type\"])\n",
    "train_data[\"other_floor_type\"] = encoder.fit_transform(train_data[\"other_floor_type\"])\n",
    "train_data[\"position\"] = encoder.fit_transform(train_data[\"position\"])"
   ]
  },
  {
   "cell_type": "code",
   "execution_count": 11,
   "id": "dcc1b663",
   "metadata": {},
   "outputs": [
    {
     "data": {
      "text/html": [
       "<div>\n",
       "<style scoped>\n",
       "    .dataframe tbody tr th:only-of-type {\n",
       "        vertical-align: middle;\n",
       "    }\n",
       "\n",
       "    .dataframe tbody tr th {\n",
       "        vertical-align: top;\n",
       "    }\n",
       "\n",
       "    .dataframe thead th {\n",
       "        text-align: right;\n",
       "    }\n",
       "</style>\n",
       "<table border=\"1\" class=\"dataframe\">\n",
       "  <thead>\n",
       "    <tr style=\"text-align: right;\">\n",
       "      <th></th>\n",
       "      <th>geo_level_1_id</th>\n",
       "      <th>geo_level_2_id</th>\n",
       "      <th>geo_level_3_id</th>\n",
       "      <th>count_floors_pre_eq</th>\n",
       "      <th>age</th>\n",
       "      <th>area_percentage</th>\n",
       "      <th>height_percentage</th>\n",
       "      <th>land_surface_condition</th>\n",
       "      <th>foundation_type</th>\n",
       "      <th>roof_type</th>\n",
       "      <th>ground_floor_type</th>\n",
       "      <th>other_floor_type</th>\n",
       "      <th>position</th>\n",
       "      <th>has_superstructure_adobe_mud</th>\n",
       "      <th>has_superstructure_mud_mortar_stone</th>\n",
       "      <th>has_superstructure_mud_mortar_brick</th>\n",
       "      <th>has_superstructure_cement_mortar_brick</th>\n",
       "      <th>has_superstructure_timber</th>\n",
       "      <th>count_families</th>\n",
       "      <th>damage_grade</th>\n",
       "    </tr>\n",
       "  </thead>\n",
       "  <tbody>\n",
       "    <tr>\n",
       "      <th>11460</th>\n",
       "      <td>22</td>\n",
       "      <td>1366</td>\n",
       "      <td>5510</td>\n",
       "      <td>2</td>\n",
       "      <td>15</td>\n",
       "      <td>5</td>\n",
       "      <td>5</td>\n",
       "      <td>2</td>\n",
       "      <td>4</td>\n",
       "      <td>0</td>\n",
       "      <td>0</td>\n",
       "      <td>3</td>\n",
       "      <td>2</td>\n",
       "      <td>0</td>\n",
       "      <td>0</td>\n",
       "      <td>0</td>\n",
       "      <td>0</td>\n",
       "      <td>1</td>\n",
       "      <td>1</td>\n",
       "      <td>1</td>\n",
       "    </tr>\n",
       "    <tr>\n",
       "      <th>256730</th>\n",
       "      <td>13</td>\n",
       "      <td>783</td>\n",
       "      <td>11773</td>\n",
       "      <td>3</td>\n",
       "      <td>0</td>\n",
       "      <td>7</td>\n",
       "      <td>5</td>\n",
       "      <td>0</td>\n",
       "      <td>2</td>\n",
       "      <td>0</td>\n",
       "      <td>3</td>\n",
       "      <td>1</td>\n",
       "      <td>2</td>\n",
       "      <td>0</td>\n",
       "      <td>1</td>\n",
       "      <td>0</td>\n",
       "      <td>0</td>\n",
       "      <td>0</td>\n",
       "      <td>1</td>\n",
       "      <td>1</td>\n",
       "    </tr>\n",
       "    <tr>\n",
       "      <th>128430</th>\n",
       "      <td>6</td>\n",
       "      <td>1253</td>\n",
       "      <td>9708</td>\n",
       "      <td>4</td>\n",
       "      <td>5</td>\n",
       "      <td>18</td>\n",
       "      <td>12</td>\n",
       "      <td>2</td>\n",
       "      <td>1</td>\n",
       "      <td>2</td>\n",
       "      <td>2</td>\n",
       "      <td>2</td>\n",
       "      <td>3</td>\n",
       "      <td>0</td>\n",
       "      <td>0</td>\n",
       "      <td>0</td>\n",
       "      <td>0</td>\n",
       "      <td>0</td>\n",
       "      <td>0</td>\n",
       "      <td>1</td>\n",
       "    </tr>\n",
       "    <tr>\n",
       "      <th>178958</th>\n",
       "      <td>13</td>\n",
       "      <td>223</td>\n",
       "      <td>4236</td>\n",
       "      <td>2</td>\n",
       "      <td>20</td>\n",
       "      <td>6</td>\n",
       "      <td>4</td>\n",
       "      <td>2</td>\n",
       "      <td>2</td>\n",
       "      <td>0</td>\n",
       "      <td>0</td>\n",
       "      <td>1</td>\n",
       "      <td>2</td>\n",
       "      <td>0</td>\n",
       "      <td>1</td>\n",
       "      <td>0</td>\n",
       "      <td>0</td>\n",
       "      <td>0</td>\n",
       "      <td>1</td>\n",
       "      <td>1</td>\n",
       "    </tr>\n",
       "    <tr>\n",
       "      <th>256674</th>\n",
       "      <td>20</td>\n",
       "      <td>173</td>\n",
       "      <td>2261</td>\n",
       "      <td>2</td>\n",
       "      <td>15</td>\n",
       "      <td>13</td>\n",
       "      <td>5</td>\n",
       "      <td>2</td>\n",
       "      <td>4</td>\n",
       "      <td>1</td>\n",
       "      <td>0</td>\n",
       "      <td>3</td>\n",
       "      <td>2</td>\n",
       "      <td>0</td>\n",
       "      <td>0</td>\n",
       "      <td>0</td>\n",
       "      <td>0</td>\n",
       "      <td>1</td>\n",
       "      <td>1</td>\n",
       "      <td>1</td>\n",
       "    </tr>\n",
       "  </tbody>\n",
       "</table>\n",
       "</div>"
      ],
      "text/plain": [
       "        geo_level_1_id  geo_level_2_id  geo_level_3_id  count_floors_pre_eq  \\\n",
       "11460               22            1366            5510                    2   \n",
       "256730              13             783           11773                    3   \n",
       "128430               6            1253            9708                    4   \n",
       "178958              13             223            4236                    2   \n",
       "256674              20             173            2261                    2   \n",
       "\n",
       "        age  area_percentage  height_percentage  land_surface_condition  \\\n",
       "11460    15                5                  5                       2   \n",
       "256730    0                7                  5                       0   \n",
       "128430    5               18                 12                       2   \n",
       "178958   20                6                  4                       2   \n",
       "256674   15               13                  5                       2   \n",
       "\n",
       "        foundation_type  roof_type  ground_floor_type  other_floor_type  \\\n",
       "11460                 4          0                  0                 3   \n",
       "256730                2          0                  3                 1   \n",
       "128430                1          2                  2                 2   \n",
       "178958                2          0                  0                 1   \n",
       "256674                4          1                  0                 3   \n",
       "\n",
       "        position  has_superstructure_adobe_mud  \\\n",
       "11460          2                             0   \n",
       "256730         2                             0   \n",
       "128430         3                             0   \n",
       "178958         2                             0   \n",
       "256674         2                             0   \n",
       "\n",
       "        has_superstructure_mud_mortar_stone  \\\n",
       "11460                                     0   \n",
       "256730                                    1   \n",
       "128430                                    0   \n",
       "178958                                    1   \n",
       "256674                                    0   \n",
       "\n",
       "        has_superstructure_mud_mortar_brick  \\\n",
       "11460                                     0   \n",
       "256730                                    0   \n",
       "128430                                    0   \n",
       "178958                                    0   \n",
       "256674                                    0   \n",
       "\n",
       "        has_superstructure_cement_mortar_brick  has_superstructure_timber  \\\n",
       "11460                                        0                          1   \n",
       "256730                                       0                          0   \n",
       "128430                                       0                          0   \n",
       "178958                                       0                          0   \n",
       "256674                                       0                          1   \n",
       "\n",
       "        count_families  damage_grade  \n",
       "11460                1             1  \n",
       "256730               1             1  \n",
       "128430               0             1  \n",
       "178958               1             1  \n",
       "256674               1             1  "
      ]
     },
     "execution_count": 11,
     "metadata": {},
     "output_type": "execute_result"
    }
   ],
   "source": [
    "train_data.head()"
   ]
  },
  {
   "cell_type": "code",
   "execution_count": 12,
   "id": "d75e9dec",
   "metadata": {},
   "outputs": [],
   "source": [
    "x = train_data.iloc[:, :-1].values\n",
    "y = train_data.iloc[:,19].values"
   ]
  },
  {
   "cell_type": "code",
   "execution_count": 13,
   "id": "35fcdcf2",
   "metadata": {},
   "outputs": [],
   "source": [
    "from sklearn.model_selection import train_test_split\n",
    "X_train, X_test, y_train, y_test = train_test_split(x, y, test_size=0.20)"
   ]
  },
  {
   "cell_type": "code",
   "execution_count": 14,
   "id": "e227e65b",
   "metadata": {},
   "outputs": [],
   "source": [
    "#Scaling Data\n",
    "from sklearn.preprocessing import StandardScaler\n",
    "scaler = StandardScaler()\n",
    "X_train = scaler.fit_transform(X_train)\n",
    "X_test = scaler.transform(X_test)\n"
   ]
  },
  {
   "cell_type": "code",
   "execution_count": 15,
   "id": "1d3b7a66",
   "metadata": {},
   "outputs": [],
   "source": [
    "model = tf.keras.models.Sequential([\n",
    "    tf.keras.layers.Dense(128, input_shape=(X_train.shape[1],), activation='relu'),\n",
    "    tf.keras.layers.Dense(64, activation='relu'),\n",
    "    tf.keras.layers.Dense(32, activation='relu'),\n",
    "    tf.keras.layers.Dense(10, activation='softmax')\n",
    "])"
   ]
  },
  {
   "cell_type": "code",
   "execution_count": 16,
   "id": "fdd0bf49",
   "metadata": {},
   "outputs": [
    {
     "name": "stdout",
     "output_type": "stream",
     "text": [
      "Epoch 1/10\n",
      "1885/1885 [==============================] - 3s 1ms/step - loss: 0.8820 - accuracy: 0.5755 - val_loss: 0.8521 - val_accuracy: 0.5868\n",
      "Epoch 2/10\n",
      "1885/1885 [==============================] - 2s 1ms/step - loss: 0.8308 - accuracy: 0.5992 - val_loss: 0.8320 - val_accuracy: 0.5933\n",
      "Epoch 3/10\n",
      "1885/1885 [==============================] - 2s 1ms/step - loss: 0.8035 - accuracy: 0.6142 - val_loss: 0.7987 - val_accuracy: 0.6125\n",
      "Epoch 4/10\n",
      "1885/1885 [==============================] - 2s 1ms/step - loss: 0.7746 - accuracy: 0.6302 - val_loss: 0.7806 - val_accuracy: 0.6279\n",
      "Epoch 5/10\n",
      "1885/1885 [==============================] - 2s 1ms/step - loss: 0.7609 - accuracy: 0.6386 - val_loss: 0.7745 - val_accuracy: 0.6290\n",
      "Epoch 6/10\n",
      "1885/1885 [==============================] - 2s 1ms/step - loss: 0.7497 - accuracy: 0.6451 - val_loss: 0.7706 - val_accuracy: 0.6297\n",
      "Epoch 7/10\n",
      "1885/1885 [==============================] - 2s 1ms/step - loss: 0.7443 - accuracy: 0.6482 - val_loss: 0.7669 - val_accuracy: 0.6294\n",
      "Epoch 8/10\n",
      "1885/1885 [==============================] - 2s 1ms/step - loss: 0.7380 - accuracy: 0.6514 - val_loss: 0.7572 - val_accuracy: 0.6376\n",
      "Epoch 9/10\n",
      "1885/1885 [==============================] - 2s 1ms/step - loss: 0.7315 - accuracy: 0.6577 - val_loss: 0.7678 - val_accuracy: 0.6343\n",
      "Epoch 10/10\n",
      "1885/1885 [==============================] - 2s 1ms/step - loss: 0.7269 - accuracy: 0.6595 - val_loss: 0.7565 - val_accuracy: 0.6398\n"
     ]
    },
    {
     "data": {
      "text/plain": [
       "<keras.callbacks.History at 0x1f4c50c92b0>"
      ]
     },
     "execution_count": 16,
     "metadata": {},
     "output_type": "execute_result"
    }
   ],
   "source": [
    "model.compile(optimizer='adam', loss='sparse_categorical_crossentropy', metrics=['accuracy'])\n",
    "model.fit(X_train, y_train, epochs=10, batch_size=32, validation_data=(X_test, y_test))"
   ]
  },
  {
   "cell_type": "code",
   "execution_count": 17,
   "id": "5e178331",
   "metadata": {
    "scrolled": false
   },
   "outputs": [
    {
     "name": "stdout",
     "output_type": "stream",
     "text": [
      "472/472 [==============================] - 0s 813us/step - loss: 0.7565 - accuracy: 0.6398\n",
      "Test accuracy: 0.6398009657859802\n"
     ]
    }
   ],
   "source": [
    "test_loss, test_acc = model.evaluate(X_test, y_test)\n",
    "print('Test accuracy:', test_acc)"
   ]
  },
  {
   "cell_type": "code",
   "execution_count": 18,
   "id": "358b75b6",
   "metadata": {},
   "outputs": [
    {
     "name": "stdout",
     "output_type": "stream",
     "text": [
      "472/472 [==============================] - 0s 671us/step\n"
     ]
    }
   ],
   "source": [
    "y_pred = model.predict(X_test)"
   ]
  },
  {
   "cell_type": "code",
   "execution_count": 19,
   "id": "c575f0e0",
   "metadata": {},
   "outputs": [
    {
     "name": "stdout",
     "output_type": "stream",
     "text": [
      "              precision    recall  f1-score   support\n",
      "\n",
      "           1       0.75      0.77      0.76      5052\n",
      "           2       0.51      0.47      0.49      5030\n",
      "           3       0.65      0.67      0.66      4993\n",
      "\n",
      "    accuracy                           0.64     15075\n",
      "   macro avg       0.64      0.64      0.64     15075\n",
      "weighted avg       0.64      0.64      0.64     15075\n",
      "\n"
     ]
    }
   ],
   "source": [
    "from sklearn.metrics import classification_report, confusion_matrix\n",
    "y_pred_classes = np.argmax(y_pred, axis=1)\n",
    "print(classification_report(y_test, y_pred_classes))\n"
   ]
  },
  {
   "cell_type": "code",
   "execution_count": 20,
   "id": "0cc54f87",
   "metadata": {},
   "outputs": [],
   "source": [
    "from sklearn.metrics import confusion_matrix\n",
    "import seaborn as sns\n",
    "\n",
    "# Compute the confusion matrix\n",
    "cm = confusion_matrix(y_test, y_pred_classes)\n",
    "\n",
    "axis_tick_labels = ['Grade 1', 'Grade 2', 'Grade 3']\n"
   ]
  },
  {
   "cell_type": "code",
   "execution_count": 21,
   "id": "4f8d9286",
   "metadata": {},
   "outputs": [
    {
     "data": {
      "image/png": "[encoded data removed]",
      "text/plain": [
       "<Figure size 640x480 with 2 Axes>"
      ]
     },
     "metadata": {},
     "output_type": "display_data"
    }
   ],
   "source": [
    "# Plot the confusion matrix as a heatmap\n",
    "sns.heatmap(cm, annot=True, cmap=\"YlGnBu\", fmt=\"d\", xticklabels=axis_tick_labels, yticklabels=axis_tick_labels)\n",
    "plt.title(\"MLP Prediction Matrix\")\n",
    "plt.xlabel(\"Predicted Damage Grade\")\n",
    "plt.ylabel(\"True Damage Grade\")\n",
    "plt.show()"
   ]
  },
  {
   "cell_type": "code",
   "execution_count": null,
   "id": "e0f54f4d",
   "metadata": {},
   "outputs": [],
   "source": []
  }
 ],
 "metadata": {
  "kernelspec": {
   "display_name": "Python 3 (ipykernel)",
   "language": "python",
   "name": "python3"
  },
  "language_info": {
   "codemirror_mode": {
    "name": "ipython",
    "version": 3
   },
   "file_extension": ".py",
   "mimetype": "text/x-python",
   "name": "python",
   "nbconvert_exporter": "python",
   "pygments_lexer": "ipython3",
   "version": "3.9.13"
  }
 },
 "nbformat": 4,
 "nbformat_minor": 5
}
