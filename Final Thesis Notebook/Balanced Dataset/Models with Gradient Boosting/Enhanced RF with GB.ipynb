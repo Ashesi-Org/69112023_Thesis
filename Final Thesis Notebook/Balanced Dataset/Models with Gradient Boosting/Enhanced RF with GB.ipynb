{
 "cells": [
  {
   "cell_type": "code",
   "execution_count": 1,
   "id": "677a2b2a",
   "metadata": {},
   "outputs": [],
   "source": [
    "# Enhanced Random Forest with Gradient Boosting Feature Selection"
   ]
  },
  {
   "cell_type": "code",
   "execution_count": 2,
   "id": "3c62a8e6",
   "metadata": {},
   "outputs": [],
   "source": [
    "import numpy as np"
   ]
  },
  {
   "cell_type": "code",
   "execution_count": 3,
   "id": "ac9ee816",
   "metadata": {},
   "outputs": [],
   "source": [
    "import matplotlib.pyplot as plt\n",
    "import pandas as pd"
   ]
  },
  {
   "cell_type": "code",
   "execution_count": 4,
   "id": "c9855b2e",
   "metadata": {},
   "outputs": [],
   "source": [
    "train_data = pd.read_csv(r\"C:\\Users\\Brad\\OneDrive - Ashesi University\\Desktop\\Ashesi University\\Senior Year Sem 2\\Capstone 2\\Data\\gb_train_data_2.csv\")"
   ]
  },
  {
   "cell_type": "code",
   "execution_count": 5,
   "id": "ab850a8d",
   "metadata": {},
   "outputs": [],
   "source": [
    "damage_labels = [1, 2, 3]"
   ]
  },
  {
   "cell_type": "code",
   "execution_count": 6,
   "id": "03817ac4",
   "metadata": {},
   "outputs": [],
   "source": [
    "#Finding minimum sample count\n",
    "min_count = np.inf\n",
    "for label in damage_labels:\n",
    "    count = (train_data[\"damage_grade\"] == label).sum()\n",
    "    if count < min_count:\n",
    "        min_count = count"
   ]
  },
  {
   "cell_type": "code",
   "execution_count": 7,
   "id": "8db8ea12",
   "metadata": {},
   "outputs": [
    {
     "name": "stdout",
     "output_type": "stream",
     "text": [
      "25124\n"
     ]
    }
   ],
   "source": [
    "print(min_count)"
   ]
  },
  {
   "cell_type": "code",
   "execution_count": 8,
   "id": "30b987f7",
   "metadata": {},
   "outputs": [],
   "source": [
    "# Selecting random number of samples equal to the min sample count\n",
    "bal_train_data = pd.concat([train_data[train_data[\"damage_grade\"] == label].sample(min_count) for label in damage_labels])\n",
    "train_data = bal_train_data"
   ]
  },
  {
   "cell_type": "code",
   "execution_count": 9,
   "id": "0920e360",
   "metadata": {},
   "outputs": [
    {
     "data": {
      "text/html": [
       "<div>\n",
       "<style scoped>\n",
       "    .dataframe tbody tr th:only-of-type {\n",
       "        vertical-align: middle;\n",
       "    }\n",
       "\n",
       "    .dataframe tbody tr th {\n",
       "        vertical-align: top;\n",
       "    }\n",
       "\n",
       "    .dataframe thead th {\n",
       "        text-align: right;\n",
       "    }\n",
       "</style>\n",
       "<table border=\"1\" class=\"dataframe\">\n",
       "  <thead>\n",
       "    <tr style=\"text-align: right;\">\n",
       "      <th></th>\n",
       "      <th>geo_level_1_id</th>\n",
       "      <th>geo_level_2_id</th>\n",
       "      <th>count_floors_pre_eq</th>\n",
       "      <th>age</th>\n",
       "      <th>foundation_type</th>\n",
       "      <th>roof_type</th>\n",
       "      <th>ground_floor_type</th>\n",
       "      <th>other_floor_type</th>\n",
       "      <th>has_superstructure_adobe_mud</th>\n",
       "      <th>has_superstructure_mud_mortar_stone</th>\n",
       "      <th>has_superstructure_stone_flag</th>\n",
       "      <th>has_superstructure_mud_mortar_brick</th>\n",
       "      <th>damage_grade</th>\n",
       "    </tr>\n",
       "  </thead>\n",
       "  <tbody>\n",
       "    <tr>\n",
       "      <th>62885</th>\n",
       "      <td>26</td>\n",
       "      <td>1001</td>\n",
       "      <td>2</td>\n",
       "      <td>15</td>\n",
       "      <td>u</td>\n",
       "      <td>n</td>\n",
       "      <td>v</td>\n",
       "      <td>x</td>\n",
       "      <td>0</td>\n",
       "      <td>0</td>\n",
       "      <td>0</td>\n",
       "      <td>0</td>\n",
       "      <td>1</td>\n",
       "    </tr>\n",
       "    <tr>\n",
       "      <th>160300</th>\n",
       "      <td>15</td>\n",
       "      <td>189</td>\n",
       "      <td>2</td>\n",
       "      <td>50</td>\n",
       "      <td>r</td>\n",
       "      <td>q</td>\n",
       "      <td>f</td>\n",
       "      <td>q</td>\n",
       "      <td>0</td>\n",
       "      <td>1</td>\n",
       "      <td>0</td>\n",
       "      <td>0</td>\n",
       "      <td>1</td>\n",
       "    </tr>\n",
       "    <tr>\n",
       "      <th>225499</th>\n",
       "      <td>25</td>\n",
       "      <td>745</td>\n",
       "      <td>1</td>\n",
       "      <td>15</td>\n",
       "      <td>i</td>\n",
       "      <td>x</td>\n",
       "      <td>v</td>\n",
       "      <td>j</td>\n",
       "      <td>0</td>\n",
       "      <td>0</td>\n",
       "      <td>0</td>\n",
       "      <td>0</td>\n",
       "      <td>1</td>\n",
       "    </tr>\n",
       "    <tr>\n",
       "      <th>175244</th>\n",
       "      <td>26</td>\n",
       "      <td>39</td>\n",
       "      <td>1</td>\n",
       "      <td>5</td>\n",
       "      <td>i</td>\n",
       "      <td>x</td>\n",
       "      <td>v</td>\n",
       "      <td>j</td>\n",
       "      <td>0</td>\n",
       "      <td>0</td>\n",
       "      <td>0</td>\n",
       "      <td>0</td>\n",
       "      <td>1</td>\n",
       "    </tr>\n",
       "    <tr>\n",
       "      <th>91833</th>\n",
       "      <td>26</td>\n",
       "      <td>1110</td>\n",
       "      <td>2</td>\n",
       "      <td>0</td>\n",
       "      <td>r</td>\n",
       "      <td>n</td>\n",
       "      <td>x</td>\n",
       "      <td>q</td>\n",
       "      <td>0</td>\n",
       "      <td>1</td>\n",
       "      <td>0</td>\n",
       "      <td>0</td>\n",
       "      <td>1</td>\n",
       "    </tr>\n",
       "  </tbody>\n",
       "</table>\n",
       "</div>"
      ],
      "text/plain": [
       "        geo_level_1_id  geo_level_2_id  count_floors_pre_eq  age  \\\n",
       "62885               26            1001                    2   15   \n",
       "160300              15             189                    2   50   \n",
       "225499              25             745                    1   15   \n",
       "175244              26              39                    1    5   \n",
       "91833               26            1110                    2    0   \n",
       "\n",
       "       foundation_type roof_type ground_floor_type other_floor_type  \\\n",
       "62885                u         n                 v                x   \n",
       "160300               r         q                 f                q   \n",
       "225499               i         x                 v                j   \n",
       "175244               i         x                 v                j   \n",
       "91833                r         n                 x                q   \n",
       "\n",
       "        has_superstructure_adobe_mud  has_superstructure_mud_mortar_stone  \\\n",
       "62885                              0                                    0   \n",
       "160300                             0                                    1   \n",
       "225499                             0                                    0   \n",
       "175244                             0                                    0   \n",
       "91833                              0                                    1   \n",
       "\n",
       "        has_superstructure_stone_flag  has_superstructure_mud_mortar_brick  \\\n",
       "62885                               0                                    0   \n",
       "160300                              0                                    0   \n",
       "225499                              0                                    0   \n",
       "175244                              0                                    0   \n",
       "91833                               0                                    0   \n",
       "\n",
       "        damage_grade  \n",
       "62885              1  \n",
       "160300             1  \n",
       "225499             1  \n",
       "175244             1  \n",
       "91833              1  "
      ]
     },
     "execution_count": 9,
     "metadata": {},
     "output_type": "execute_result"
    }
   ],
   "source": [
    "train_data.head()"
   ]
  },
  {
   "cell_type": "code",
   "execution_count": 10,
   "id": "e7204c8c",
   "metadata": {},
   "outputs": [],
   "source": [
    "from sklearn.preprocessing import LabelEncoder\n",
    "encoder = LabelEncoder()"
   ]
  },
  {
   "cell_type": "code",
   "execution_count": 11,
   "id": "4de98f37",
   "metadata": {},
   "outputs": [],
   "source": [
    "train_data[\"foundation_type\"] = encoder.fit_transform(train_data[\"foundation_type\"])\n",
    "train_data[\"roof_type\"] = encoder.fit_transform(train_data[\"roof_type\"])\n",
    "train_data[\"ground_floor_type\"] = encoder.fit_transform(train_data[\"ground_floor_type\"])\n",
    "train_data[\"other_floor_type\"] = encoder.fit_transform(train_data[\"other_floor_type\"])"
   ]
  },
  {
   "cell_type": "code",
   "execution_count": 12,
   "id": "9f7868b6",
   "metadata": {},
   "outputs": [
    {
     "data": {
      "text/html": [
       "<div>\n",
       "<style scoped>\n",
       "    .dataframe tbody tr th:only-of-type {\n",
       "        vertical-align: middle;\n",
       "    }\n",
       "\n",
       "    .dataframe tbody tr th {\n",
       "        vertical-align: top;\n",
       "    }\n",
       "\n",
       "    .dataframe thead th {\n",
       "        text-align: right;\n",
       "    }\n",
       "</style>\n",
       "<table border=\"1\" class=\"dataframe\">\n",
       "  <thead>\n",
       "    <tr style=\"text-align: right;\">\n",
       "      <th></th>\n",
       "      <th>geo_level_1_id</th>\n",
       "      <th>geo_level_2_id</th>\n",
       "      <th>count_floors_pre_eq</th>\n",
       "      <th>age</th>\n",
       "      <th>foundation_type</th>\n",
       "      <th>roof_type</th>\n",
       "      <th>ground_floor_type</th>\n",
       "      <th>other_floor_type</th>\n",
       "      <th>has_superstructure_adobe_mud</th>\n",
       "      <th>has_superstructure_mud_mortar_stone</th>\n",
       "      <th>has_superstructure_stone_flag</th>\n",
       "      <th>has_superstructure_mud_mortar_brick</th>\n",
       "      <th>damage_grade</th>\n",
       "    </tr>\n",
       "  </thead>\n",
       "  <tbody>\n",
       "    <tr>\n",
       "      <th>62885</th>\n",
       "      <td>26</td>\n",
       "      <td>1001</td>\n",
       "      <td>2</td>\n",
       "      <td>15</td>\n",
       "      <td>3</td>\n",
       "      <td>0</td>\n",
       "      <td>2</td>\n",
       "      <td>3</td>\n",
       "      <td>0</td>\n",
       "      <td>0</td>\n",
       "      <td>0</td>\n",
       "      <td>0</td>\n",
       "      <td>1</td>\n",
       "    </tr>\n",
       "    <tr>\n",
       "      <th>160300</th>\n",
       "      <td>15</td>\n",
       "      <td>189</td>\n",
       "      <td>2</td>\n",
       "      <td>50</td>\n",
       "      <td>2</td>\n",
       "      <td>1</td>\n",
       "      <td>0</td>\n",
       "      <td>1</td>\n",
       "      <td>0</td>\n",
       "      <td>1</td>\n",
       "      <td>0</td>\n",
       "      <td>0</td>\n",
       "      <td>1</td>\n",
       "    </tr>\n",
       "    <tr>\n",
       "      <th>225499</th>\n",
       "      <td>25</td>\n",
       "      <td>745</td>\n",
       "      <td>1</td>\n",
       "      <td>15</td>\n",
       "      <td>1</td>\n",
       "      <td>2</td>\n",
       "      <td>2</td>\n",
       "      <td>0</td>\n",
       "      <td>0</td>\n",
       "      <td>0</td>\n",
       "      <td>0</td>\n",
       "      <td>0</td>\n",
       "      <td>1</td>\n",
       "    </tr>\n",
       "    <tr>\n",
       "      <th>175244</th>\n",
       "      <td>26</td>\n",
       "      <td>39</td>\n",
       "      <td>1</td>\n",
       "      <td>5</td>\n",
       "      <td>1</td>\n",
       "      <td>2</td>\n",
       "      <td>2</td>\n",
       "      <td>0</td>\n",
       "      <td>0</td>\n",
       "      <td>0</td>\n",
       "      <td>0</td>\n",
       "      <td>0</td>\n",
       "      <td>1</td>\n",
       "    </tr>\n",
       "    <tr>\n",
       "      <th>91833</th>\n",
       "      <td>26</td>\n",
       "      <td>1110</td>\n",
       "      <td>2</td>\n",
       "      <td>0</td>\n",
       "      <td>2</td>\n",
       "      <td>0</td>\n",
       "      <td>3</td>\n",
       "      <td>1</td>\n",
       "      <td>0</td>\n",
       "      <td>1</td>\n",
       "      <td>0</td>\n",
       "      <td>0</td>\n",
       "      <td>1</td>\n",
       "    </tr>\n",
       "  </tbody>\n",
       "</table>\n",
       "</div>"
      ],
      "text/plain": [
       "        geo_level_1_id  geo_level_2_id  count_floors_pre_eq  age  \\\n",
       "62885               26            1001                    2   15   \n",
       "160300              15             189                    2   50   \n",
       "225499              25             745                    1   15   \n",
       "175244              26              39                    1    5   \n",
       "91833               26            1110                    2    0   \n",
       "\n",
       "        foundation_type  roof_type  ground_floor_type  other_floor_type  \\\n",
       "62885                 3          0                  2                 3   \n",
       "160300                2          1                  0                 1   \n",
       "225499                1          2                  2                 0   \n",
       "175244                1          2                  2                 0   \n",
       "91833                 2          0                  3                 1   \n",
       "\n",
       "        has_superstructure_adobe_mud  has_superstructure_mud_mortar_stone  \\\n",
       "62885                              0                                    0   \n",
       "160300                             0                                    1   \n",
       "225499                             0                                    0   \n",
       "175244                             0                                    0   \n",
       "91833                              0                                    1   \n",
       "\n",
       "        has_superstructure_stone_flag  has_superstructure_mud_mortar_brick  \\\n",
       "62885                               0                                    0   \n",
       "160300                              0                                    0   \n",
       "225499                              0                                    0   \n",
       "175244                              0                                    0   \n",
       "91833                               0                                    0   \n",
       "\n",
       "        damage_grade  \n",
       "62885              1  \n",
       "160300             1  \n",
       "225499             1  \n",
       "175244             1  \n",
       "91833              1  "
      ]
     },
     "execution_count": 12,
     "metadata": {},
     "output_type": "execute_result"
    }
   ],
   "source": [
    "train_data.head()"
   ]
  },
  {
   "cell_type": "code",
   "execution_count": 13,
   "id": "8eb7a072",
   "metadata": {},
   "outputs": [],
   "source": [
    "x = train_data.iloc[:, :-1].values\n",
    "y = train_data.iloc[:,12].values"
   ]
  },
  {
   "cell_type": "code",
   "execution_count": 14,
   "id": "6d56b2a0",
   "metadata": {},
   "outputs": [],
   "source": [
    "from sklearn.model_selection import train_test_split\n",
    "X_train, X_test, y_train, y_test = train_test_split(x, y, test_size=0.20)"
   ]
  },
  {
   "cell_type": "code",
   "execution_count": 15,
   "id": "68ac6b24",
   "metadata": {},
   "outputs": [],
   "source": [
    "## K, P and Q are selected in the ration 3:2:1 as suggested as optimal\n",
    "\n",
    "# Number of tree estimators from P for ERF (Q)\n",
    "n_rf_estimators = 100  #100 is default in sklearn\n",
    "\n",
    "# Number of High AUC trees selected (P)\n",
    "n_top_trees = n_rf_estimators * 2\n",
    "\n",
    "# Number of trees (K)\n",
    "n_trees = n_rf_estimators * 3\n"
   ]
  },
  {
   "cell_type": "code",
   "execution_count": 16,
   "id": "c546d539",
   "metadata": {},
   "outputs": [],
   "source": [
    "from sklearn.tree import DecisionTreeClassifier\n",
    "\n",
    "# List to store the trees\n",
    "trees = []\n",
    "\n",
    "# Train n_estimators number of trees\n",
    "for i in range(n_trees):\n",
    "    \n",
    "    # Train a decision tree\n",
    "    tree = DecisionTreeClassifier()\n",
    "    tree.fit(X_train, y_train)\n",
    "    \n",
    "    # Store the tree\n",
    "    trees.append(tree)"
   ]
  },
  {
   "cell_type": "code",
   "execution_count": 17,
   "id": "82bded9c",
   "metadata": {},
   "outputs": [],
   "source": [
    "#Model based Feature Selection\n",
    "\n",
    "from sklearn.feature_selection import SelectFromModel\n",
    "fs = SelectFromModel(tree, threshold='median')\n",
    "fs.fit(X_train,y_train)\n",
    "fs_features = fs.transform(X_train)"
   ]
  },
  {
   "cell_type": "code",
   "execution_count": 18,
   "id": "8984809b",
   "metadata": {},
   "outputs": [
    {
     "name": "stdout",
     "output_type": "stream",
     "text": [
      "[0 1 2 3 8 9]\n"
     ]
    }
   ],
   "source": [
    "# Print the indices of the selected features\n",
    "print(fs.get_support(indices=True))"
   ]
  },
  {
   "cell_type": "code",
   "execution_count": 19,
   "id": "e3e376c6",
   "metadata": {},
   "outputs": [],
   "source": [
    "from sklearn.metrics import roc_auc_score\n",
    "\n",
    "# Calculate the AUC score for each tree\n",
    "aucs = []\n",
    "for tree in trees:\n",
    "    y_pred = tree.predict_proba(X_test)\n",
    "    auc = roc_auc_score(y_test, y_pred, multi_class='ovr')\n",
    "    aucs.append(auc)\n",
    "\n",
    "# Sort the trees in descending order of AUC values\n",
    "trees = [tree for _, tree in sorted(zip(aucs, trees), reverse=True)]"
   ]
  },
  {
   "cell_type": "code",
   "execution_count": 20,
   "id": "b20e84a4",
   "metadata": {},
   "outputs": [],
   "source": [
    "#Select top P trees with high AUC values\n",
    "top_trees = trees[:n_top_trees]\n",
    "\n",
    "aucs_top_trees = aucs[:n_top_trees]\n",
    "\n",
    "aucs_top_trees = np.array(aucs_top_trees).reshape(-1, 1)\n",
    "\n",
    "from sklearn.cluster import KMeans\n",
    "\n",
    "# Perform K-Means clustering on the AUC values\n",
    "kmeans = KMeans(n_clusters=n_rf_estimators)\n",
    "kmeans.fit(aucs_top_trees)\n",
    "\n",
    "# Get the cluster labels for each tree\n",
    "labels = kmeans.labels_\n",
    "\n",
    "\n"
   ]
  },
  {
   "cell_type": "code",
   "execution_count": 21,
   "id": "bb06b4cb",
   "metadata": {},
   "outputs": [],
   "source": [
    "clustered_trees = []\n",
    "for i in range(n_rf_estimators):\n",
    "    indices = np.where(labels == i)[0]\n",
    "    trees_in_cluster = [top_trees[j] for j in indices]\n",
    "    aucs_in_cluster = [aucs_top_trees[j][0] for j in indices]\n",
    "    clustered_indices = np.argsort(aucs_in_cluster)[::-1]\n",
    "    clustered_trees.extend([trees_in_cluster[j] for j in clustered_indices])"
   ]
  },
  {
   "cell_type": "code",
   "execution_count": 22,
   "id": "2e8cdb26",
   "metadata": {},
   "outputs": [],
   "source": [
    "ensemble_trees = []\n",
    "start = 0\n",
    "for i in range(n_rf_estimators):\n",
    "    end = start + len(np.where(labels == i)[0])\n",
    "    ensemble_tree = clustered_trees[start]\n",
    "    ensemble_trees.append(ensemble_tree)\n",
    "    start = end\n"
   ]
  },
  {
   "cell_type": "code",
   "execution_count": 23,
   "id": "419f3571",
   "metadata": {},
   "outputs": [],
   "source": [
    "# Fit each decision tree to the training data\n",
    "for ensemble_tree in ensemble_trees:\n",
    "    tree.fit(X_train, y_train)\n",
    "\n",
    "# Predict the class labels for the test data using each decision tree\n",
    "y_pred_list = [ensemble_tree.predict(X_test) for ensemble_tree in ensemble_trees]\n",
    "\n",
    "# Convert the list of predictions into a matrix\n",
    "y_pred_matrix = np.array(y_pred_list).T\n",
    "\n",
    "# Use the majority vote of the predictions to make an ensemble classification decision\n",
    "y_pred = np.array([np.bincount(y).argmax() for y in y_pred_matrix])\n"
   ]
  },
  {
   "cell_type": "code",
   "execution_count": 24,
   "id": "c1d64433",
   "metadata": {},
   "outputs": [
    {
     "name": "stdout",
     "output_type": "stream",
     "text": [
      "              precision    recall  f1-score   support\n",
      "\n",
      "           1       0.74      0.80      0.77      5114\n",
      "           2       0.53      0.53      0.53      4994\n",
      "           3       0.68      0.62      0.65      4967\n",
      "\n",
      "    accuracy                           0.65     15075\n",
      "   macro avg       0.65      0.65      0.65     15075\n",
      "weighted avg       0.65      0.65      0.65     15075\n",
      "\n"
     ]
    }
   ],
   "source": [
    "from sklearn.metrics import classification_report\n",
    "\n",
    "# Obtain a classification report\n",
    "report = classification_report(y_test, y_pred)\n",
    "\n",
    "# Print the classification report\n",
    "print(report)"
   ]
  },
  {
   "cell_type": "code",
   "execution_count": 25,
   "id": "6eae48ae",
   "metadata": {},
   "outputs": [],
   "source": [
    "from sklearn.metrics import confusion_matrix\n",
    "import seaborn as sns\n",
    "\n",
    "# Compute the confusion matrix\n",
    "cm = confusion_matrix(y_test, y_pred)\n",
    "\n",
    "axis_tick_labels = ['Grade 1', 'Grade 2', 'Grade 3']\n"
   ]
  },
  {
   "cell_type": "code",
   "execution_count": 27,
   "id": "99527687",
   "metadata": {},
   "outputs": [
    {
     "data": {
      "image/png": "[encoded data removed]",
      "text/plain": [
       "<Figure size 640x480 with 2 Axes>"
      ]
     },
     "metadata": {},
     "output_type": "display_data"
    }
   ],
   "source": [
    "# Plot the confusion matrix as a heatmap\n",
    "sns.heatmap(cm, annot=True, cmap=\"YlGnBu\", fmt=\"d\", xticklabels=axis_tick_labels, yticklabels=axis_tick_labels)\n",
    "# plt.title(\"ERF w/ FS Prediction Matrix\")\n",
    "plt.title(\"(f) \\nERF with GB\")\n",
    "plt.xlabel(\"Predicted Damage Grade\")\n",
    "plt.ylabel(\"True Damage Grade\")\n",
    "plt.show()"
   ]
  },
  {
   "cell_type": "code",
   "execution_count": null,
   "id": "886219e5",
   "metadata": {},
   "outputs": [],
   "source": []
  },
  {
   "cell_type": "code",
   "execution_count": null,
   "id": "bff614b4",
   "metadata": {},
   "outputs": [],
   "source": []
  },
  {
   "cell_type": "code",
   "execution_count": null,
   "id": "0de97df9",
   "metadata": {},
   "outputs": [],
   "source": []
  },
  {
   "cell_type": "code",
   "execution_count": null,
   "id": "29bd460d",
   "metadata": {},
   "outputs": [],
   "source": []
  },
  {
   "cell_type": "code",
   "execution_count": null,
   "id": "8d6b9f01",
   "metadata": {},
   "outputs": [],
   "source": []
  }
 ],
 "metadata": {
  "kernelspec": {
   "display_name": "Python 3 (ipykernel)",
   "language": "python",
   "name": "python3"
  },
  "language_info": {
   "codemirror_mode": {
    "name": "ipython",
    "version": 3
   },
   "file_extension": ".py",
   "mimetype": "text/x-python",
   "name": "python",
   "nbconvert_exporter": "python",
   "pygments_lexer": "ipython3",
   "version": "3.9.13"
  }
 },
 "nbformat": 4,
 "nbformat_minor": 5
}
