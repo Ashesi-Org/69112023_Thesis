{
 "cells": [
  {
   "cell_type": "code",
   "execution_count": 1,
   "id": "22b85420",
   "metadata": {},
   "outputs": [],
   "source": [
    "# Random Forest with model based feature selection"
   ]
  },
  {
   "cell_type": "code",
   "execution_count": 2,
   "id": "dfebafb2",
   "metadata": {},
   "outputs": [],
   "source": [
    "import numpy as np\n",
    "import matplotlib.pyplot as plt\n",
    "import pandas as pd"
   ]
  },
  {
   "cell_type": "code",
   "execution_count": 3,
   "id": "d0a571de",
   "metadata": {},
   "outputs": [],
   "source": [
    "train_data = pd.read_csv(r\"C:\\Users\\Brad\\OneDrive - Ashesi University\\Desktop\\Ashesi University\\Senior Year Sem 2\\Capstone 2\\Data\\fs_train_data_2.csv\")"
   ]
  },
  {
   "cell_type": "code",
   "execution_count": 4,
   "id": "e9b3af66",
   "metadata": {},
   "outputs": [],
   "source": [
    "from sklearn.preprocessing import LabelEncoder\n",
    "encoder = LabelEncoder()"
   ]
  },
  {
   "cell_type": "code",
   "execution_count": 5,
   "id": "1e1d4b07",
   "metadata": {},
   "outputs": [],
   "source": [
    "train_data[\"land_surface_condition\"] = encoder.fit_transform(train_data[\"land_surface_condition\"])\n",
    "train_data[\"foundation_type\"] = encoder.fit_transform(train_data[\"foundation_type\"])\n",
    "train_data[\"roof_type\"] = encoder.fit_transform(train_data[\"roof_type\"])\n",
    "train_data[\"ground_floor_type\"] = encoder.fit_transform(train_data[\"ground_floor_type\"])\n",
    "train_data[\"other_floor_type\"] = encoder.fit_transform(train_data[\"other_floor_type\"])\n",
    "train_data[\"position\"] = encoder.fit_transform(train_data[\"position\"])\n",
    "train_data[\"plan_configuration\"] = encoder.fit_transform(train_data[\"plan_configuration\"])"
   ]
  },
  {
   "cell_type": "code",
   "execution_count": 6,
   "id": "3b480ea3",
   "metadata": {},
   "outputs": [
    {
     "data": {
      "text/html": [
       "<div>\n",
       "<style scoped>\n",
       "    .dataframe tbody tr th:only-of-type {\n",
       "        vertical-align: middle;\n",
       "    }\n",
       "\n",
       "    .dataframe tbody tr th {\n",
       "        vertical-align: top;\n",
       "    }\n",
       "\n",
       "    .dataframe thead th {\n",
       "        text-align: right;\n",
       "    }\n",
       "</style>\n",
       "<table border=\"1\" class=\"dataframe\">\n",
       "  <thead>\n",
       "    <tr style=\"text-align: right;\">\n",
       "      <th></th>\n",
       "      <th>geo_level_1_id</th>\n",
       "      <th>geo_level_2_id</th>\n",
       "      <th>geo_level_3_id</th>\n",
       "      <th>count_floors_pre_eq</th>\n",
       "      <th>age</th>\n",
       "      <th>area_percentage</th>\n",
       "      <th>height_percentage</th>\n",
       "      <th>land_surface_condition</th>\n",
       "      <th>foundation_type</th>\n",
       "      <th>roof_type</th>\n",
       "      <th>...</th>\n",
       "      <th>has_superstructure_adobe_mud</th>\n",
       "      <th>has_superstructure_mud_mortar_stone</th>\n",
       "      <th>has_superstructure_stone_flag</th>\n",
       "      <th>has_superstructure_mud_mortar_brick</th>\n",
       "      <th>has_superstructure_cement_mortar_brick</th>\n",
       "      <th>has_superstructure_timber</th>\n",
       "      <th>has_superstructure_bamboo</th>\n",
       "      <th>count_families</th>\n",
       "      <th>has_secondary_use</th>\n",
       "      <th>damage_grade</th>\n",
       "    </tr>\n",
       "  </thead>\n",
       "  <tbody>\n",
       "    <tr>\n",
       "      <th>0</th>\n",
       "      <td>30</td>\n",
       "      <td>266</td>\n",
       "      <td>1224</td>\n",
       "      <td>1</td>\n",
       "      <td>25</td>\n",
       "      <td>5</td>\n",
       "      <td>2</td>\n",
       "      <td>2</td>\n",
       "      <td>2</td>\n",
       "      <td>0</td>\n",
       "      <td>...</td>\n",
       "      <td>0</td>\n",
       "      <td>1</td>\n",
       "      <td>0</td>\n",
       "      <td>0</td>\n",
       "      <td>0</td>\n",
       "      <td>0</td>\n",
       "      <td>0</td>\n",
       "      <td>0</td>\n",
       "      <td>0</td>\n",
       "      <td>2</td>\n",
       "    </tr>\n",
       "    <tr>\n",
       "      <th>1</th>\n",
       "      <td>17</td>\n",
       "      <td>409</td>\n",
       "      <td>12182</td>\n",
       "      <td>2</td>\n",
       "      <td>0</td>\n",
       "      <td>13</td>\n",
       "      <td>7</td>\n",
       "      <td>2</td>\n",
       "      <td>2</td>\n",
       "      <td>0</td>\n",
       "      <td>...</td>\n",
       "      <td>0</td>\n",
       "      <td>1</td>\n",
       "      <td>0</td>\n",
       "      <td>0</td>\n",
       "      <td>0</td>\n",
       "      <td>0</td>\n",
       "      <td>0</td>\n",
       "      <td>1</td>\n",
       "      <td>0</td>\n",
       "      <td>3</td>\n",
       "    </tr>\n",
       "    <tr>\n",
       "      <th>2</th>\n",
       "      <td>17</td>\n",
       "      <td>716</td>\n",
       "      <td>7056</td>\n",
       "      <td>2</td>\n",
       "      <td>5</td>\n",
       "      <td>12</td>\n",
       "      <td>6</td>\n",
       "      <td>1</td>\n",
       "      <td>2</td>\n",
       "      <td>1</td>\n",
       "      <td>...</td>\n",
       "      <td>0</td>\n",
       "      <td>1</td>\n",
       "      <td>0</td>\n",
       "      <td>0</td>\n",
       "      <td>0</td>\n",
       "      <td>0</td>\n",
       "      <td>0</td>\n",
       "      <td>1</td>\n",
       "      <td>0</td>\n",
       "      <td>3</td>\n",
       "    </tr>\n",
       "    <tr>\n",
       "      <th>3</th>\n",
       "      <td>4</td>\n",
       "      <td>651</td>\n",
       "      <td>105</td>\n",
       "      <td>2</td>\n",
       "      <td>80</td>\n",
       "      <td>5</td>\n",
       "      <td>4</td>\n",
       "      <td>0</td>\n",
       "      <td>2</td>\n",
       "      <td>0</td>\n",
       "      <td>...</td>\n",
       "      <td>0</td>\n",
       "      <td>1</td>\n",
       "      <td>0</td>\n",
       "      <td>0</td>\n",
       "      <td>0</td>\n",
       "      <td>0</td>\n",
       "      <td>0</td>\n",
       "      <td>1</td>\n",
       "      <td>0</td>\n",
       "      <td>2</td>\n",
       "    </tr>\n",
       "    <tr>\n",
       "      <th>4</th>\n",
       "      <td>3</td>\n",
       "      <td>1387</td>\n",
       "      <td>3909</td>\n",
       "      <td>5</td>\n",
       "      <td>40</td>\n",
       "      <td>5</td>\n",
       "      <td>10</td>\n",
       "      <td>2</td>\n",
       "      <td>2</td>\n",
       "      <td>0</td>\n",
       "      <td>...</td>\n",
       "      <td>0</td>\n",
       "      <td>0</td>\n",
       "      <td>0</td>\n",
       "      <td>1</td>\n",
       "      <td>0</td>\n",
       "      <td>0</td>\n",
       "      <td>0</td>\n",
       "      <td>1</td>\n",
       "      <td>0</td>\n",
       "      <td>2</td>\n",
       "    </tr>\n",
       "  </tbody>\n",
       "</table>\n",
       "<p>5 rows × 24 columns</p>\n",
       "</div>"
      ],
      "text/plain": [
       "   geo_level_1_id  geo_level_2_id  geo_level_3_id  count_floors_pre_eq  age  \\\n",
       "0              30             266            1224                    1   25   \n",
       "1              17             409           12182                    2    0   \n",
       "2              17             716            7056                    2    5   \n",
       "3               4             651             105                    2   80   \n",
       "4               3            1387            3909                    5   40   \n",
       "\n",
       "   area_percentage  height_percentage  land_surface_condition  \\\n",
       "0                5                  2                       2   \n",
       "1               13                  7                       2   \n",
       "2               12                  6                       1   \n",
       "3                5                  4                       0   \n",
       "4                5                 10                       2   \n",
       "\n",
       "   foundation_type  roof_type  ...  has_superstructure_adobe_mud  \\\n",
       "0                2          0  ...                             0   \n",
       "1                2          0  ...                             0   \n",
       "2                2          1  ...                             0   \n",
       "3                2          0  ...                             0   \n",
       "4                2          0  ...                             0   \n",
       "\n",
       "   has_superstructure_mud_mortar_stone  has_superstructure_stone_flag  \\\n",
       "0                                    1                              0   \n",
       "1                                    1                              0   \n",
       "2                                    1                              0   \n",
       "3                                    1                              0   \n",
       "4                                    0                              0   \n",
       "\n",
       "   has_superstructure_mud_mortar_brick  \\\n",
       "0                                    0   \n",
       "1                                    0   \n",
       "2                                    0   \n",
       "3                                    0   \n",
       "4                                    1   \n",
       "\n",
       "   has_superstructure_cement_mortar_brick  has_superstructure_timber  \\\n",
       "0                                       0                          0   \n",
       "1                                       0                          0   \n",
       "2                                       0                          0   \n",
       "3                                       0                          0   \n",
       "4                                       0                          0   \n",
       "\n",
       "   has_superstructure_bamboo  count_families  has_secondary_use  damage_grade  \n",
       "0                          0               0                  0             2  \n",
       "1                          0               1                  0             3  \n",
       "2                          0               1                  0             3  \n",
       "3                          0               1                  0             2  \n",
       "4                          0               1                  0             2  \n",
       "\n",
       "[5 rows x 24 columns]"
      ]
     },
     "execution_count": 6,
     "metadata": {},
     "output_type": "execute_result"
    }
   ],
   "source": [
    "train_data.head()"
   ]
  },
  {
   "cell_type": "code",
   "execution_count": 7,
   "id": "b8140656",
   "metadata": {},
   "outputs": [],
   "source": [
    "x = train_data.iloc[:, :-1].values\n",
    "y = train_data.iloc[:,23].values"
   ]
  },
  {
   "cell_type": "code",
   "execution_count": 8,
   "id": "597c6c55",
   "metadata": {},
   "outputs": [],
   "source": [
    "from sklearn.model_selection import train_test_split\n",
    "X_train, X_test, y_train, y_test = train_test_split(x, y, test_size=0.20)"
   ]
  },
  {
   "cell_type": "code",
   "execution_count": 9,
   "id": "7c0dd492",
   "metadata": {},
   "outputs": [
    {
     "data": {
      "text/plain": [
       "RandomForestClassifier()"
      ]
     },
     "execution_count": 9,
     "metadata": {},
     "output_type": "execute_result"
    }
   ],
   "source": [
    "from sklearn.ensemble import RandomForestClassifier\n",
    "classifier = RandomForestClassifier()\n",
    "classifier.fit(X_train, y_train)"
   ]
  },
  {
   "cell_type": "code",
   "execution_count": 10,
   "id": "96e86927",
   "metadata": {},
   "outputs": [],
   "source": [
    "y_pred = classifier.predict(X_test)"
   ]
  },
  {
   "cell_type": "code",
   "execution_count": 11,
   "id": "643133de",
   "metadata": {},
   "outputs": [
    {
     "name": "stdout",
     "output_type": "stream",
     "text": [
      "              precision    recall  f1-score   support\n",
      "\n",
      "           1       0.64      0.49      0.55      5027\n",
      "           2       0.73      0.82      0.77     29612\n",
      "           3       0.72      0.61      0.66     17482\n",
      "\n",
      "    accuracy                           0.72     52121\n",
      "   macro avg       0.69      0.64      0.66     52121\n",
      "weighted avg       0.72      0.72      0.71     52121\n",
      "\n"
     ]
    }
   ],
   "source": [
    "from sklearn.metrics import classification_report, confusion_matrix\n",
    "print(classification_report(y_test, y_pred))\n",
    "\n"
   ]
  },
  {
   "cell_type": "code",
   "execution_count": 12,
   "id": "ab04f6c0",
   "metadata": {},
   "outputs": [],
   "source": [
    "#Model based Feature Selection\n",
    "\n",
    "from sklearn.feature_selection import SelectFromModel\n",
    "fs = SelectFromModel(classifier, threshold='median')\n",
    "fs.fit(X_train,y_train)\n",
    "fs_features = fs.transform(X_train)"
   ]
  },
  {
   "cell_type": "code",
   "execution_count": 13,
   "id": "aae4074f",
   "metadata": {},
   "outputs": [
    {
     "name": "stdout",
     "output_type": "stream",
     "text": [
      "[ 0  1  2  4  5  6  7  8  9 11 12 21]\n"
     ]
    }
   ],
   "source": [
    "# Print the indices of the selected features\n",
    "print(fs.get_support(indices=True))"
   ]
  },
  {
   "cell_type": "code",
   "execution_count": 14,
   "id": "0490dca0",
   "metadata": {},
   "outputs": [],
   "source": [
    "from sklearn.metrics import confusion_matrix\n",
    "import seaborn as sns\n",
    "\n",
    "# Compute the confusion matrix\n",
    "cm = confusion_matrix(y_test, y_pred)\n",
    "\n",
    "axis_tick_labels = ['Grade 1', 'Grade 2', 'Grade 3']\n"
   ]
  },
  {
   "cell_type": "code",
   "execution_count": 15,
   "id": "72329c3c",
   "metadata": {},
   "outputs": [
    {
     "data": {
      "image/png": "[encoded data removed]",
      "text/plain": [
       "<Figure size 640x480 with 2 Axes>"
      ]
     },
     "metadata": {},
     "output_type": "display_data"
    }
   ],
   "source": [
    "# Plot the confusion matrix as a heatmap\n",
    "sns.heatmap(cm, annot=True, cmap=\"YlGnBu\", fmt=\"d\", xticklabels=axis_tick_labels, yticklabels=axis_tick_labels)\n",
    "plt.title(\"RF Prediction Matrix\")\n",
    "plt.xlabel(\"Predicted Damage Grade\")\n",
    "plt.ylabel(\"True Damage Grade\")\n",
    "plt.show()"
   ]
  },
  {
   "cell_type": "code",
   "execution_count": 16,
   "id": "2f91c152",
   "metadata": {},
   "outputs": [],
   "source": [
    "from sklearn.tree import export_text"
   ]
  },
  {
   "cell_type": "code",
   "execution_count": 17,
   "id": "bb6e3902",
   "metadata": {},
   "outputs": [],
   "source": [
    "features_data = train_data.drop(columns=['damage_grade'], axis=1)"
   ]
  },
  {
   "cell_type": "code",
   "execution_count": 18,
   "id": "834b6fed",
   "metadata": {},
   "outputs": [],
   "source": [
    "# # Print out the decision trees in the random forest\n",
    "# for i, tree in enumerate(classifier.estimators_):\n",
    "#     r = export_text(tree, feature_names=features_data.columns.tolist())\n",
    "#     print(f\"Decision Tree {i}:\\n{r}\")\n",
    "\n",
    "# tree = classifier.estimators_[0]\n",
    "# r = export_text(tree, feature_names=features_data.columns.tolist())\n",
    "# print(f\"Decision Tree {0}:\\n{r}\")"
   ]
  },
  {
   "cell_type": "code",
   "execution_count": null,
   "id": "3b78b644",
   "metadata": {},
   "outputs": [],
   "source": []
  },
  {
   "cell_type": "code",
   "execution_count": null,
   "id": "f00f1aad",
   "metadata": {},
   "outputs": [],
   "source": []
  }
 ],
 "metadata": {
  "kernelspec": {
   "display_name": "Python 3 (ipykernel)",
   "language": "python",
   "name": "python3"
  },
  "language_info": {
   "codemirror_mode": {
    "name": "ipython",
    "version": 3
   },
   "file_extension": ".py",
   "mimetype": "text/x-python",
   "name": "python",
   "nbconvert_exporter": "python",
   "pygments_lexer": "ipython3",
   "version": "3.9.13"
  }
 },
 "nbformat": 4,
 "nbformat_minor": 5
}
